{
  "nbformat": 4,
  "nbformat_minor": 0,
  "metadata": {
    "colab": {
      "name": "Copy of car_insurance_ridge.ipynb",
      "provenance": [],
      "collapsed_sections": [],
      "authorship_tag": "ABX9TyNKap8pKLOLiGq2+eoRGKJ4",
      "include_colab_link": true
    },
    "kernelspec": {
      "name": "python3",
      "display_name": "Python 3"
    },
    "language_info": {
      "name": "python"
    }
  },
  "cells": [
    {
      "cell_type": "markdown",
      "metadata": {
        "id": "view-in-github",
        "colab_type": "text"
      },
      "source": [
        "<a href=\"https://colab.research.google.com/github/shi-star/Regression_extended_Lasso_Ridge_ElasticNet/blob/main/Ridge_Reg_Car_insur_.ipynb\" target=\"_parent\"><img src=\"https://colab.research.google.com/assets/colab-badge.svg\" alt=\"Open In Colab\"/></a>"
      ]
    },
    {
      "cell_type": "code",
      "metadata": {
        "colab": {
          "base_uri": "https://localhost:8080/"
        },
        "id": "VsPaRZBWnwTQ",
        "outputId": "107a2202-f002-4edb-f760-908411e74ca5"
      },
      "source": [
        "from google.colab import drive\n",
        "drive.mount('/content/drive')"
      ],
      "execution_count": 1,
      "outputs": [
        {
          "output_type": "stream",
          "text": [
            "Mounted at /content/drive\n"
          ],
          "name": "stdout"
        }
      ]
    },
    {
      "cell_type": "markdown",
      "metadata": {
        "id": "dhm9q9NupU_C"
      },
      "source": [
        "# Business Problem\n",
        "\n",
        "<li>The bank has potential customers’ data, and bank’s employees call them for\n",
        "advertising available car insurance options.</li><br>\n",
        "<li>We are provided with general information about clients (age, job, etc.) as well\n",
        "as more specific information about the current insurance sell campaign\n",
        "(communication, last contact day) and previous campaigns (attributes like\n",
        "previous attempts, outcome).</li><br>\n",
        "<li?You have data about 4000 customers who were contacted during the last\n",
        "campaign and for whom the results of campaign (did the customer buy\n",
        "insurance or not) are known.</li><br>\n",
        "\n",
        "## Task and Approach:\n",
        "The task is to predict for 1000 customers who were contacted during the\n",
        "current campaign, whether they will buy car insurance or not.\n",
        "We will be using logistic Regression with Lasso penalty to predict it."
      ]
    },
    {
      "cell_type": "code",
      "metadata": {
        "id": "t5WdyAgqogEx"
      },
      "source": [
        "path1 = '/content/drive/MyDrive/carInsurance_test (1).csv'"
      ],
      "execution_count": 2,
      "outputs": []
    },
    {
      "cell_type": "code",
      "metadata": {
        "id": "Xog7g7L2n9Ea"
      },
      "source": [
        "path= '/content/drive/MyDrive/carInsurance_train (1).csv'"
      ],
      "execution_count": 3,
      "outputs": []
    },
    {
      "cell_type": "code",
      "metadata": {
        "id": "N0x8Q3HuohI8"
      },
      "source": [
        "import pandas as pd"
      ],
      "execution_count": 4,
      "outputs": []
    },
    {
      "cell_type": "code",
      "metadata": {
        "id": "3A8E8y0_oYqq"
      },
      "source": [
        "df_tr = pd.read_csv(path)"
      ],
      "execution_count": 5,
      "outputs": []
    },
    {
      "cell_type": "code",
      "metadata": {
        "id": "yEWlA94godua"
      },
      "source": [
        "df_tst = pd.read_csv(path1)"
      ],
      "execution_count": 6,
      "outputs": []
    },
    {
      "cell_type": "markdown",
      "metadata": {
        "id": "UlzTq2piqCuF"
      },
      "source": [
        "# First we will work on the Train data only. \n",
        "\n",
        "Let's import the important libraries. "
      ]
    },
    {
      "cell_type": "code",
      "metadata": {
        "id": "euEYD6j_qGRt"
      },
      "source": [
        "import numpy as np\n",
        "import seaborn as sns\n",
        "import matplotlib.pyplot as plt\n"
      ],
      "execution_count": 7,
      "outputs": []
    },
    {
      "cell_type": "markdown",
      "metadata": {
        "id": "O1k5nkUNqZ5l"
      },
      "source": [
        "Let's check the few rows and columns of the data "
      ]
    },
    {
      "cell_type": "code",
      "metadata": {
        "colab": {
          "base_uri": "https://localhost:8080/",
          "height": 224
        },
        "id": "FvolzQfRqXkx",
        "outputId": "4e71bc35-dccd-4fab-ab27-677b340d4674"
      },
      "source": [
        "df_tr.head()"
      ],
      "execution_count": 8,
      "outputs": [
        {
          "output_type": "execute_result",
          "data": {
            "text/html": [
              "<div>\n",
              "<style scoped>\n",
              "    .dataframe tbody tr th:only-of-type {\n",
              "        vertical-align: middle;\n",
              "    }\n",
              "\n",
              "    .dataframe tbody tr th {\n",
              "        vertical-align: top;\n",
              "    }\n",
              "\n",
              "    .dataframe thead th {\n",
              "        text-align: right;\n",
              "    }\n",
              "</style>\n",
              "<table border=\"1\" class=\"dataframe\">\n",
              "  <thead>\n",
              "    <tr style=\"text-align: right;\">\n",
              "      <th></th>\n",
              "      <th>Id</th>\n",
              "      <th>Age</th>\n",
              "      <th>Job</th>\n",
              "      <th>Marital</th>\n",
              "      <th>Education</th>\n",
              "      <th>Default</th>\n",
              "      <th>Balance</th>\n",
              "      <th>HHInsurance</th>\n",
              "      <th>CarLoan</th>\n",
              "      <th>Communication</th>\n",
              "      <th>LastContactDay</th>\n",
              "      <th>LastContactMonth</th>\n",
              "      <th>NoOfContacts</th>\n",
              "      <th>DaysPassed</th>\n",
              "      <th>PrevAttempts</th>\n",
              "      <th>Outcome</th>\n",
              "      <th>CallStart</th>\n",
              "      <th>CallEnd</th>\n",
              "      <th>CarInsurance</th>\n",
              "    </tr>\n",
              "  </thead>\n",
              "  <tbody>\n",
              "    <tr>\n",
              "      <th>0</th>\n",
              "      <td>1</td>\n",
              "      <td>32</td>\n",
              "      <td>management</td>\n",
              "      <td>single</td>\n",
              "      <td>tertiary</td>\n",
              "      <td>0</td>\n",
              "      <td>1218</td>\n",
              "      <td>1</td>\n",
              "      <td>0</td>\n",
              "      <td>telephone</td>\n",
              "      <td>28</td>\n",
              "      <td>jan</td>\n",
              "      <td>2</td>\n",
              "      <td>-1</td>\n",
              "      <td>0</td>\n",
              "      <td>NaN</td>\n",
              "      <td>13:45:20</td>\n",
              "      <td>13:46:30</td>\n",
              "      <td>0</td>\n",
              "    </tr>\n",
              "    <tr>\n",
              "      <th>1</th>\n",
              "      <td>2</td>\n",
              "      <td>32</td>\n",
              "      <td>blue-collar</td>\n",
              "      <td>married</td>\n",
              "      <td>primary</td>\n",
              "      <td>0</td>\n",
              "      <td>1156</td>\n",
              "      <td>1</td>\n",
              "      <td>0</td>\n",
              "      <td>NaN</td>\n",
              "      <td>26</td>\n",
              "      <td>may</td>\n",
              "      <td>5</td>\n",
              "      <td>-1</td>\n",
              "      <td>0</td>\n",
              "      <td>NaN</td>\n",
              "      <td>14:49:03</td>\n",
              "      <td>14:52:08</td>\n",
              "      <td>0</td>\n",
              "    </tr>\n",
              "    <tr>\n",
              "      <th>2</th>\n",
              "      <td>3</td>\n",
              "      <td>29</td>\n",
              "      <td>management</td>\n",
              "      <td>single</td>\n",
              "      <td>tertiary</td>\n",
              "      <td>0</td>\n",
              "      <td>637</td>\n",
              "      <td>1</td>\n",
              "      <td>0</td>\n",
              "      <td>cellular</td>\n",
              "      <td>3</td>\n",
              "      <td>jun</td>\n",
              "      <td>1</td>\n",
              "      <td>119</td>\n",
              "      <td>1</td>\n",
              "      <td>failure</td>\n",
              "      <td>16:30:24</td>\n",
              "      <td>16:36:04</td>\n",
              "      <td>1</td>\n",
              "    </tr>\n",
              "    <tr>\n",
              "      <th>3</th>\n",
              "      <td>4</td>\n",
              "      <td>25</td>\n",
              "      <td>student</td>\n",
              "      <td>single</td>\n",
              "      <td>primary</td>\n",
              "      <td>0</td>\n",
              "      <td>373</td>\n",
              "      <td>1</td>\n",
              "      <td>0</td>\n",
              "      <td>cellular</td>\n",
              "      <td>11</td>\n",
              "      <td>may</td>\n",
              "      <td>2</td>\n",
              "      <td>-1</td>\n",
              "      <td>0</td>\n",
              "      <td>NaN</td>\n",
              "      <td>12:06:43</td>\n",
              "      <td>12:20:22</td>\n",
              "      <td>1</td>\n",
              "    </tr>\n",
              "    <tr>\n",
              "      <th>4</th>\n",
              "      <td>5</td>\n",
              "      <td>30</td>\n",
              "      <td>management</td>\n",
              "      <td>married</td>\n",
              "      <td>tertiary</td>\n",
              "      <td>0</td>\n",
              "      <td>2694</td>\n",
              "      <td>0</td>\n",
              "      <td>0</td>\n",
              "      <td>cellular</td>\n",
              "      <td>3</td>\n",
              "      <td>jun</td>\n",
              "      <td>1</td>\n",
              "      <td>-1</td>\n",
              "      <td>0</td>\n",
              "      <td>NaN</td>\n",
              "      <td>14:35:44</td>\n",
              "      <td>14:38:56</td>\n",
              "      <td>0</td>\n",
              "    </tr>\n",
              "  </tbody>\n",
              "</table>\n",
              "</div>"
            ],
            "text/plain": [
              "   Id  Age          Job  Marital  ...  Outcome  CallStart   CallEnd  CarInsurance\n",
              "0   1   32   management   single  ...      NaN   13:45:20  13:46:30             0\n",
              "1   2   32  blue-collar  married  ...      NaN   14:49:03  14:52:08             0\n",
              "2   3   29   management   single  ...  failure   16:30:24  16:36:04             1\n",
              "3   4   25      student   single  ...      NaN   12:06:43  12:20:22             1\n",
              "4   5   30   management  married  ...      NaN   14:35:44  14:38:56             0\n",
              "\n",
              "[5 rows x 19 columns]"
            ]
          },
          "metadata": {
            "tags": []
          },
          "execution_count": 8
        }
      ]
    },
    {
      "cell_type": "markdown",
      "metadata": {
        "id": "quqqTEa3qym0"
      },
      "source": [
        "# Feature Overview\n",
        "Feature Description Example<br>\n",
        "1.**Id Unique**: ID number. Predictions file\n",
        "should contain this feature.\n",
        "“1” … “5000”<br>\n",
        "**2.Age**: Age of the client<br>\n",
        "**3.Job:** Job of the client. \"admin.\", \"blue-collar\", etc.<br>\n",
        "**4.Marital:** Marital status of the client \"divorced\", \"married\", \"single\"<br>\n",
        "**5.Education:** Education level of the client \"primary\", \"secondary\", etc.<br>\n",
        "**6.Default:** Has credit in default? \"yes\" - 1,\"no\" - 0.<br>\n",
        "**7.Balance:** Average yearly balance, in USD.<br>\n",
        "**8.HHInsurance:** Is household insured \"yes\" - 1,\"no\" - 0.<br>\n",
        "**9.CarLoan:** Has the client a car loan \"yes\" - 1,\"no\" - 0.<br>\n",
        "**10.Communication:** Contact communication type \"cellular\", \"telephone\", “NA”.<br>\n",
        "**11.LastContactMonth:** Month of the last contact \"jan\", \"feb\", etc.<br>\n",
        "**12.LastContactDay:** Day of the last contact<br>\n",
        "**13.CallStart:** Start time of the last call\n",
        "(HH:MM:SS)\n",
        "12:43:15<br>\n",
        "**14.CallEnd:** End time of the last call<br>\n",
        "(HH:MM:SS)\n",
        "12:43:15\n",
        "**15.NoOfContacts:** Number of contacts performed\n",
        "during this campaign for this\n",
        "client<br>\n",
        "**16.DaysPassed:** Number of days that passed by\n",
        "after the client was last contacted\n",
        "from a previous campaign\n",
        "(numeric; -1 means client was not\n",
        "previously contacted)<br>\n",
        "**17.PrevAttempts :** Number of contacts performed\n",
        "before this campaign and for this\n",
        "client<br>\n",
        "**18.Outcome :**Outcome of the previous\n",
        "marketing campaign\n",
        "\"failure\", \"other\", \"success\", “NA”<br>\n",
        "**19:CarInsurance:** Has the client subscribed a\n",
        "CarInsurance?\n",
        "\"yes\" - 1,\"no\" - 0"
      ]
    },
    {
      "cell_type": "markdown",
      "metadata": {
        "id": "Qp0vbwrJz-uL"
      },
      "source": [
        "## My initial inferences from the columns.<br>\n",
        "1. I can see job_id is not important as it does not provide any info. about insurance decision. so we will remove it firstly.<br>\n",
        "2. we need to think about communication type, as it does not seem important in making decision  if the cx will purchase it or not.<br>\n",
        "3. Last contact month and day provide almost same type of info. so it would be better if we keep any one of them. <br>\n",
        "4. Call start and end time , does not give any infor. so we will see if it should have been kept or not. \n",
        "\n",
        "\n",
        "**However these are just initial inferences, we can not take any decision at this point. Will further analyse the data thoroughly and then will take decisions further.**\n",
        "\n"
      ]
    },
    {
      "cell_type": "markdown",
      "metadata": {
        "id": "eu_X5scP2PtM"
      },
      "source": [
        "Let's check the shape of the data.\n"
      ]
    },
    {
      "cell_type": "code",
      "metadata": {
        "colab": {
          "base_uri": "https://localhost:8080/"
        },
        "id": "aDmVCrEQ1oEb",
        "outputId": "7770885a-cf89-4cd2-eb50-dad0be29d2c4"
      },
      "source": [
        "df_tr.shape"
      ],
      "execution_count": 9,
      "outputs": [
        {
          "output_type": "execute_result",
          "data": {
            "text/plain": [
              "(4000, 19)"
            ]
          },
          "metadata": {
            "tags": []
          },
          "execution_count": 9
        }
      ]
    },
    {
      "cell_type": "markdown",
      "metadata": {
        "id": "C5jOAbym2X9f"
      },
      "source": [
        "So we have 4000 rows and 19 columns.<br>\n",
        "Now let's check the info of the data."
      ]
    },
    {
      "cell_type": "code",
      "metadata": {
        "colab": {
          "base_uri": "https://localhost:8080/"
        },
        "id": "xdiIk86P2VGB",
        "outputId": "33e11f0c-2168-4bae-c7d2-910d7fc0973f"
      },
      "source": [
        "df_tr.info()"
      ],
      "execution_count": 10,
      "outputs": [
        {
          "output_type": "stream",
          "text": [
            "<class 'pandas.core.frame.DataFrame'>\n",
            "RangeIndex: 4000 entries, 0 to 3999\n",
            "Data columns (total 19 columns):\n",
            " #   Column            Non-Null Count  Dtype \n",
            "---  ------            --------------  ----- \n",
            " 0   Id                4000 non-null   int64 \n",
            " 1   Age               4000 non-null   int64 \n",
            " 2   Job               3981 non-null   object\n",
            " 3   Marital           4000 non-null   object\n",
            " 4   Education         3831 non-null   object\n",
            " 5   Default           4000 non-null   int64 \n",
            " 6   Balance           4000 non-null   int64 \n",
            " 7   HHInsurance       4000 non-null   int64 \n",
            " 8   CarLoan           4000 non-null   int64 \n",
            " 9   Communication     3098 non-null   object\n",
            " 10  LastContactDay    4000 non-null   int64 \n",
            " 11  LastContactMonth  4000 non-null   object\n",
            " 12  NoOfContacts      4000 non-null   int64 \n",
            " 13  DaysPassed        4000 non-null   int64 \n",
            " 14  PrevAttempts      4000 non-null   int64 \n",
            " 15  Outcome           958 non-null    object\n",
            " 16  CallStart         4000 non-null   object\n",
            " 17  CallEnd           4000 non-null   object\n",
            " 18  CarInsurance      4000 non-null   int64 \n",
            "dtypes: int64(11), object(8)\n",
            "memory usage: 593.9+ KB\n"
          ],
          "name": "stdout"
        }
      ]
    },
    {
      "cell_type": "markdown",
      "metadata": {
        "id": "t1Qv06Gh2qGf"
      },
      "source": [
        "Here we can see some columns which have missing values in them. <br>\n",
        "We can see we have 11 numerical columns and 8 categorical columns.<br>\n",
        "Let's check the exact number of missing values. "
      ]
    },
    {
      "cell_type": "code",
      "metadata": {
        "colab": {
          "base_uri": "https://localhost:8080/"
        },
        "id": "MHyudjvo2lOw",
        "outputId": "89ab2d1e-ae36-4300-b15d-2e0976338a31"
      },
      "source": [
        "df_tr.isnull().sum()"
      ],
      "execution_count": 11,
      "outputs": [
        {
          "output_type": "execute_result",
          "data": {
            "text/plain": [
              "Id                     0\n",
              "Age                    0\n",
              "Job                   19\n",
              "Marital                0\n",
              "Education            169\n",
              "Default                0\n",
              "Balance                0\n",
              "HHInsurance            0\n",
              "CarLoan                0\n",
              "Communication        902\n",
              "LastContactDay         0\n",
              "LastContactMonth       0\n",
              "NoOfContacts           0\n",
              "DaysPassed             0\n",
              "PrevAttempts           0\n",
              "Outcome             3042\n",
              "CallStart              0\n",
              "CallEnd                0\n",
              "CarInsurance           0\n",
              "dtype: int64"
            ]
          },
          "metadata": {
            "tags": []
          },
          "execution_count": 11
        }
      ]
    },
    {
      "cell_type": "markdown",
      "metadata": {
        "id": "iIv2T6ok3KiY"
      },
      "source": [
        "We can see 4 columns have missing values in them. Let's check the % of the missing values."
      ]
    },
    {
      "cell_type": "code",
      "metadata": {
        "colab": {
          "base_uri": "https://localhost:8080/"
        },
        "id": "6x6joaVt3WhQ",
        "outputId": "131c130b-85f6-4da2-c753-26f5155f5358"
      },
      "source": [
        "df_tr.isnull().sum()/len(df_tr)"
      ],
      "execution_count": 12,
      "outputs": [
        {
          "output_type": "execute_result",
          "data": {
            "text/plain": [
              "Id                  0.00000\n",
              "Age                 0.00000\n",
              "Job                 0.00475\n",
              "Marital             0.00000\n",
              "Education           0.04225\n",
              "Default             0.00000\n",
              "Balance             0.00000\n",
              "HHInsurance         0.00000\n",
              "CarLoan             0.00000\n",
              "Communication       0.22550\n",
              "LastContactDay      0.00000\n",
              "LastContactMonth    0.00000\n",
              "NoOfContacts        0.00000\n",
              "DaysPassed          0.00000\n",
              "PrevAttempts        0.00000\n",
              "Outcome             0.76050\n",
              "CallStart           0.00000\n",
              "CallEnd             0.00000\n",
              "CarInsurance        0.00000\n",
              "dtype: float64"
            ]
          },
          "metadata": {
            "tags": []
          },
          "execution_count": 12
        }
      ]
    },
    {
      "cell_type": "markdown",
      "metadata": {
        "id": "7zzRrJ5u5FkR"
      },
      "source": [
        "<li>Here we can see Job has 0.04% missing values. <br>\n",
        "<li>Education has 4% missing values.<br>\n",
        "<li>Communication has 22.50% missing values.<br>\n",
        "<li>Outcome has 76% missing values. Which are a lot. so we need to think about the imputation of this column <br>\n",
        "\n",
        " ## Let's get some summary of the data. \n"
      ]
    },
    {
      "cell_type": "code",
      "metadata": {
        "colab": {
          "base_uri": "https://localhost:8080/",
          "height": 297
        },
        "id": "ZDVs5p6q5DAl",
        "outputId": "ffb93cde-057c-4af5-cf18-a78c91fe3829"
      },
      "source": [
        "df_tr.describe()"
      ],
      "execution_count": 13,
      "outputs": [
        {
          "output_type": "execute_result",
          "data": {
            "text/html": [
              "<div>\n",
              "<style scoped>\n",
              "    .dataframe tbody tr th:only-of-type {\n",
              "        vertical-align: middle;\n",
              "    }\n",
              "\n",
              "    .dataframe tbody tr th {\n",
              "        vertical-align: top;\n",
              "    }\n",
              "\n",
              "    .dataframe thead th {\n",
              "        text-align: right;\n",
              "    }\n",
              "</style>\n",
              "<table border=\"1\" class=\"dataframe\">\n",
              "  <thead>\n",
              "    <tr style=\"text-align: right;\">\n",
              "      <th></th>\n",
              "      <th>Id</th>\n",
              "      <th>Age</th>\n",
              "      <th>Default</th>\n",
              "      <th>Balance</th>\n",
              "      <th>HHInsurance</th>\n",
              "      <th>CarLoan</th>\n",
              "      <th>LastContactDay</th>\n",
              "      <th>NoOfContacts</th>\n",
              "      <th>DaysPassed</th>\n",
              "      <th>PrevAttempts</th>\n",
              "      <th>CarInsurance</th>\n",
              "    </tr>\n",
              "  </thead>\n",
              "  <tbody>\n",
              "    <tr>\n",
              "      <th>count</th>\n",
              "      <td>4000.000000</td>\n",
              "      <td>4000.000000</td>\n",
              "      <td>4000.000000</td>\n",
              "      <td>4000.000000</td>\n",
              "      <td>4000.00000</td>\n",
              "      <td>4000.000000</td>\n",
              "      <td>4000.000000</td>\n",
              "      <td>4000.000000</td>\n",
              "      <td>4000.000000</td>\n",
              "      <td>4000.000000</td>\n",
              "      <td>4000.000000</td>\n",
              "    </tr>\n",
              "    <tr>\n",
              "      <th>mean</th>\n",
              "      <td>2000.500000</td>\n",
              "      <td>41.214750</td>\n",
              "      <td>0.014500</td>\n",
              "      <td>1532.937250</td>\n",
              "      <td>0.49275</td>\n",
              "      <td>0.133000</td>\n",
              "      <td>15.721250</td>\n",
              "      <td>2.607250</td>\n",
              "      <td>48.706500</td>\n",
              "      <td>0.717500</td>\n",
              "      <td>0.401000</td>\n",
              "    </tr>\n",
              "    <tr>\n",
              "      <th>std</th>\n",
              "      <td>1154.844867</td>\n",
              "      <td>11.550194</td>\n",
              "      <td>0.119555</td>\n",
              "      <td>3511.452489</td>\n",
              "      <td>0.50001</td>\n",
              "      <td>0.339617</td>\n",
              "      <td>8.425307</td>\n",
              "      <td>3.064204</td>\n",
              "      <td>106.685385</td>\n",
              "      <td>2.078647</td>\n",
              "      <td>0.490162</td>\n",
              "    </tr>\n",
              "    <tr>\n",
              "      <th>min</th>\n",
              "      <td>1.000000</td>\n",
              "      <td>18.000000</td>\n",
              "      <td>0.000000</td>\n",
              "      <td>-3058.000000</td>\n",
              "      <td>0.00000</td>\n",
              "      <td>0.000000</td>\n",
              "      <td>1.000000</td>\n",
              "      <td>1.000000</td>\n",
              "      <td>-1.000000</td>\n",
              "      <td>0.000000</td>\n",
              "      <td>0.000000</td>\n",
              "    </tr>\n",
              "    <tr>\n",
              "      <th>25%</th>\n",
              "      <td>1000.750000</td>\n",
              "      <td>32.000000</td>\n",
              "      <td>0.000000</td>\n",
              "      <td>111.000000</td>\n",
              "      <td>0.00000</td>\n",
              "      <td>0.000000</td>\n",
              "      <td>8.000000</td>\n",
              "      <td>1.000000</td>\n",
              "      <td>-1.000000</td>\n",
              "      <td>0.000000</td>\n",
              "      <td>0.000000</td>\n",
              "    </tr>\n",
              "    <tr>\n",
              "      <th>50%</th>\n",
              "      <td>2000.500000</td>\n",
              "      <td>39.000000</td>\n",
              "      <td>0.000000</td>\n",
              "      <td>551.500000</td>\n",
              "      <td>0.00000</td>\n",
              "      <td>0.000000</td>\n",
              "      <td>16.000000</td>\n",
              "      <td>2.000000</td>\n",
              "      <td>-1.000000</td>\n",
              "      <td>0.000000</td>\n",
              "      <td>0.000000</td>\n",
              "    </tr>\n",
              "    <tr>\n",
              "      <th>75%</th>\n",
              "      <td>3000.250000</td>\n",
              "      <td>49.000000</td>\n",
              "      <td>0.000000</td>\n",
              "      <td>1619.000000</td>\n",
              "      <td>1.00000</td>\n",
              "      <td>0.000000</td>\n",
              "      <td>22.000000</td>\n",
              "      <td>3.000000</td>\n",
              "      <td>-1.000000</td>\n",
              "      <td>0.000000</td>\n",
              "      <td>1.000000</td>\n",
              "    </tr>\n",
              "    <tr>\n",
              "      <th>max</th>\n",
              "      <td>4000.000000</td>\n",
              "      <td>95.000000</td>\n",
              "      <td>1.000000</td>\n",
              "      <td>98417.000000</td>\n",
              "      <td>1.00000</td>\n",
              "      <td>1.000000</td>\n",
              "      <td>31.000000</td>\n",
              "      <td>43.000000</td>\n",
              "      <td>854.000000</td>\n",
              "      <td>58.000000</td>\n",
              "      <td>1.000000</td>\n",
              "    </tr>\n",
              "  </tbody>\n",
              "</table>\n",
              "</div>"
            ],
            "text/plain": [
              "                Id          Age  ...  PrevAttempts  CarInsurance\n",
              "count  4000.000000  4000.000000  ...   4000.000000   4000.000000\n",
              "mean   2000.500000    41.214750  ...      0.717500      0.401000\n",
              "std    1154.844867    11.550194  ...      2.078647      0.490162\n",
              "min       1.000000    18.000000  ...      0.000000      0.000000\n",
              "25%    1000.750000    32.000000  ...      0.000000      0.000000\n",
              "50%    2000.500000    39.000000  ...      0.000000      0.000000\n",
              "75%    3000.250000    49.000000  ...      0.000000      1.000000\n",
              "max    4000.000000    95.000000  ...     58.000000      1.000000\n",
              "\n",
              "[8 rows x 11 columns]"
            ]
          },
          "metadata": {
            "tags": []
          },
          "execution_count": 13
        }
      ]
    },
    {
      "cell_type": "markdown",
      "metadata": {
        "id": "G8yLiK1w6DN0"
      },
      "source": [
        "## My observations from the summary:\n",
        "1. I can see the min age for the survey is 18yrs and max is 95yrs. Which means only the adults are surveyed. <br>\n",
        "2. I can see Default, HHinsurance, Carloan are although numerical columns but they have min 0 and max 1 which suggests they are actually categorical however already in dummy format.\n",
        "3. I can see the min value in balance is in -ve. and max is huge. it shows the huge variation in the column.\n",
        "\n",
        "\n"
      ]
    },
    {
      "cell_type": "code",
      "metadata": {
        "colab": {
          "base_uri": "https://localhost:8080/",
          "height": 173
        },
        "id": "nJY_woXKLhSo",
        "outputId": "5bf4d20a-a212-490d-a4c2-0a3200b8cf37"
      },
      "source": [
        "df_tr.describe(include='object')"
      ],
      "execution_count": 14,
      "outputs": [
        {
          "output_type": "execute_result",
          "data": {
            "text/html": [
              "<div>\n",
              "<style scoped>\n",
              "    .dataframe tbody tr th:only-of-type {\n",
              "        vertical-align: middle;\n",
              "    }\n",
              "\n",
              "    .dataframe tbody tr th {\n",
              "        vertical-align: top;\n",
              "    }\n",
              "\n",
              "    .dataframe thead th {\n",
              "        text-align: right;\n",
              "    }\n",
              "</style>\n",
              "<table border=\"1\" class=\"dataframe\">\n",
              "  <thead>\n",
              "    <tr style=\"text-align: right;\">\n",
              "      <th></th>\n",
              "      <th>Job</th>\n",
              "      <th>Marital</th>\n",
              "      <th>Education</th>\n",
              "      <th>Communication</th>\n",
              "      <th>LastContactMonth</th>\n",
              "      <th>Outcome</th>\n",
              "      <th>CallStart</th>\n",
              "      <th>CallEnd</th>\n",
              "    </tr>\n",
              "  </thead>\n",
              "  <tbody>\n",
              "    <tr>\n",
              "      <th>count</th>\n",
              "      <td>3981</td>\n",
              "      <td>4000</td>\n",
              "      <td>3831</td>\n",
              "      <td>3098</td>\n",
              "      <td>4000</td>\n",
              "      <td>958</td>\n",
              "      <td>4000</td>\n",
              "      <td>4000</td>\n",
              "    </tr>\n",
              "    <tr>\n",
              "      <th>unique</th>\n",
              "      <td>11</td>\n",
              "      <td>3</td>\n",
              "      <td>3</td>\n",
              "      <td>2</td>\n",
              "      <td>12</td>\n",
              "      <td>3</td>\n",
              "      <td>3777</td>\n",
              "      <td>3764</td>\n",
              "    </tr>\n",
              "    <tr>\n",
              "      <th>top</th>\n",
              "      <td>management</td>\n",
              "      <td>married</td>\n",
              "      <td>secondary</td>\n",
              "      <td>cellular</td>\n",
              "      <td>may</td>\n",
              "      <td>failure</td>\n",
              "      <td>17:11:04</td>\n",
              "      <td>11:27:46</td>\n",
              "    </tr>\n",
              "    <tr>\n",
              "      <th>freq</th>\n",
              "      <td>893</td>\n",
              "      <td>2304</td>\n",
              "      <td>1988</td>\n",
              "      <td>2831</td>\n",
              "      <td>1049</td>\n",
              "      <td>437</td>\n",
              "      <td>3</td>\n",
              "      <td>3</td>\n",
              "    </tr>\n",
              "  </tbody>\n",
              "</table>\n",
              "</div>"
            ],
            "text/plain": [
              "               Job  Marital  Education  ...  Outcome CallStart   CallEnd\n",
              "count         3981     4000       3831  ...      958      4000      4000\n",
              "unique          11        3          3  ...        3      3777      3764\n",
              "top     management  married  secondary  ...  failure  17:11:04  11:27:46\n",
              "freq           893     2304       1988  ...      437         3         3\n",
              "\n",
              "[4 rows x 8 columns]"
            ]
          },
          "metadata": {
            "tags": []
          },
          "execution_count": 14
        }
      ]
    },
    {
      "cell_type": "markdown",
      "metadata": {
        "id": "-p54Xuo1uka3"
      },
      "source": [
        "Here I can see unique values in each categorical column. I can see the mode of each column. <br>\n",
        "I can see CallStart and CallEnd are of object type however they are in form of time, and huge unique values. <br> \n",
        "So in this case, Let's create one column as 'Call_Duration' with the help of both CallEnd and CallStart."
      ]
    },
    {
      "cell_type": "code",
      "metadata": {
        "colab": {
          "base_uri": "https://localhost:8080/"
        },
        "id": "IyeFGnIi51lL",
        "outputId": "40358a5e-36ac-4533-e3c7-fe2c4d1f035c"
      },
      "source": [
        "df_tr.select_dtypes(include='object').columns"
      ],
      "execution_count": 15,
      "outputs": [
        {
          "output_type": "execute_result",
          "data": {
            "text/plain": [
              "Index(['Job', 'Marital', 'Education', 'Communication', 'LastContactMonth',\n",
              "       'Outcome', 'CallStart', 'CallEnd'],\n",
              "      dtype='object')"
            ]
          },
          "metadata": {
            "tags": []
          },
          "execution_count": 15
        }
      ]
    },
    {
      "cell_type": "code",
      "metadata": {
        "colab": {
          "base_uri": "https://localhost:8080/"
        },
        "id": "J6QabT8mFFcp",
        "outputId": "777c43d4-9313-4266-f5df-c23fe06cc2ef"
      },
      "source": [
        "df_tr['CallStart'].nunique()"
      ],
      "execution_count": 16,
      "outputs": [
        {
          "output_type": "execute_result",
          "data": {
            "text/plain": [
              "3777"
            ]
          },
          "metadata": {
            "tags": []
          },
          "execution_count": 16
        }
      ]
    },
    {
      "cell_type": "code",
      "metadata": {
        "colab": {
          "base_uri": "https://localhost:8080/"
        },
        "id": "Vh3ciDddFV5r",
        "outputId": "1cc263c5-d67a-4e3c-f8aa-6c931964b8d2"
      },
      "source": [
        "df_tr['CallEnd'].nunique()"
      ],
      "execution_count": 17,
      "outputs": [
        {
          "output_type": "execute_result",
          "data": {
            "text/plain": [
              "3764"
            ]
          },
          "metadata": {
            "tags": []
          },
          "execution_count": 17
        }
      ]
    },
    {
      "cell_type": "code",
      "metadata": {
        "id": "d5X_5NidVxIM"
      },
      "source": [
        "df_tr[['CallStart','CallEnd']]=df_tr[['CallStart','CallEnd']].astype('datetime64[ns]')"
      ],
      "execution_count": 18,
      "outputs": []
    },
    {
      "cell_type": "code",
      "metadata": {
        "id": "dhBncSHKV001"
      },
      "source": [
        "df_tr['Call_Duration']=df_tr['CallEnd']-df_tr['CallStart']"
      ],
      "execution_count": 19,
      "outputs": []
    },
    {
      "cell_type": "code",
      "metadata": {
        "colab": {
          "base_uri": "https://localhost:8080/"
        },
        "id": "hdGLefUEV7Gn",
        "outputId": "69bdcb21-0f53-4d1e-8fb5-b2048fa63971"
      },
      "source": [
        "df_tr['Call_Duration']=df_tr['Call_Duration'].dt.components['minutes']*60 + df_tr['Call_Duration'].dt.components['seconds']\n",
        "df_tr['Call_Duration'].head()"
      ],
      "execution_count": 20,
      "outputs": [
        {
          "output_type": "execute_result",
          "data": {
            "text/plain": [
              "0     70\n",
              "1    185\n",
              "2    340\n",
              "3    819\n",
              "4    192\n",
              "Name: Call_Duration, dtype: int64"
            ]
          },
          "metadata": {
            "tags": []
          },
          "execution_count": 20
        }
      ]
    },
    {
      "cell_type": "code",
      "metadata": {
        "colab": {
          "base_uri": "https://localhost:8080/"
        },
        "id": "ZzpB9EroWAGr",
        "outputId": "a6f41550-3e77-4fc9-e2b5-dc121ac99b39"
      },
      "source": [
        "df_tr['Call_Duration']=df_tr['Call_Duration'].apply(lambda x: round(x/60),2)\n",
        "df_tr['Call_Duration'].tail()"
      ],
      "execution_count": 21,
      "outputs": [
        {
          "output_type": "execute_result",
          "data": {
            "text/plain": [
              "3995    4\n",
              "3996    2\n",
              "3997    5\n",
              "3998    2\n",
              "3999    5\n",
              "Name: Call_Duration, dtype: int64"
            ]
          },
          "metadata": {
            "tags": []
          },
          "execution_count": 21
        }
      ]
    },
    {
      "cell_type": "markdown",
      "metadata": {
        "id": "wJNYKrhm9RhO"
      },
      "source": [
        "# Let's do the Univariate Analysis of Categorical Variables and Numerical Variables.\n",
        "## Let's start with categorical variables first.\n",
        "\n"
      ]
    },
    {
      "cell_type": "code",
      "metadata": {
        "colab": {
          "base_uri": "https://localhost:8080/",
          "height": 1000
        },
        "id": "oBP80Xs686KH",
        "outputId": "238c9bc8-748a-457d-81a4-4054f0e8a43f"
      },
      "source": [
        "list_obj= ['Job', 'Marital', 'Education', 'Communication', 'LastContactMonth',\n",
        "       'Outcome', 'CarInsurance', 'CarLoan','HHInsurance','Default','PrevAttempts','NoOfContacts' ]\n",
        "\n",
        "for i in list_obj:\n",
        "  sns.countplot(x=df_tr[i], data=df_tr , order=df_tr[i].value_counts().index)\n",
        "  plt.xticks(rotation=45)\n",
        "  plt.show()"
      ],
      "execution_count": 22,
      "outputs": [
        {
          "output_type": "display_data",
          "data": {
            "image/png": "[encoded data removed]",
            "text/plain": [
              "<Figure size 432x288 with 1 Axes>"
            ]
          },
          "metadata": {
            "tags": [],
            "needs_background": "light"
          }
        },
        {
          "output_type": "display_data",
          "data": {
            "image/png": "[encoded data removed]",
            "text/plain": [
              "<Figure size 432x288 with 1 Axes>"
            ]
          },
          "metadata": {
            "tags": [],
            "needs_background": "light"
          }
        },
        {
          "output_type": "display_data",
          "data": {
            "image/png": "[encoded data removed]",
            "text/plain": [
              "<Figure size 432x288 with 1 Axes>"
            ]
          },
          "metadata": {
            "tags": [],
            "needs_background": "light"
          }
        },
        {
          "output_type": "display_data",
          "data": {
            "image/png": "[encoded data removed]",
            "text/plain": [
              "<Figure size 432x288 with 1 Axes>"
            ]
          },
          "metadata": {
            "tags": [],
            "needs_background": "light"
          }
        },
        {
          "output_type": "display_data",
          "data": {
            "image/png": "[encoded data removed]",
            "text/plain": [
              "<Figure size 432x288 with 1 Axes>"
            ]
          },
          "metadata": {
            "tags": [],
            "needs_background": "light"
          }
        },
        {
          "output_type": "display_data",
          "data": {
            "image/png": "[encoded data removed]",
            "text/plain": [
              "<Figure size 432x288 with 1 Axes>"
            ]
          },
          "metadata": {
            "tags": [],
            "needs_background": "light"
          }
        },
        {
          "output_type": "display_data",
          "data": {
            "image/png": "[encoded data removed]",
            "text/plain": [
              "<Figure size 432x288 with 1 Axes>"
            ]
          },
          "metadata": {
            "tags": [],
            "needs_background": "light"
          }
        },
        {
          "output_type": "display_data",
          "data": {
            "image/png": "[encoded data removed]",
            "text/plain": [
              "<Figure size 432x288 with 1 Axes>"
            ]
          },
          "metadata": {
            "tags": [],
            "needs_background": "light"
          }
        },
        {
          "output_type": "display_data",
          "data": {
            "image/png": "[encoded data removed]",
            "text/plain": [
              "<Figure size 432x288 with 1 Axes>"
            ]
          },
          "metadata": {
            "tags": [],
            "needs_background": "light"
          }
        },
        {
          "output_type": "display_data",
          "data": {
            "image/png": "[encoded data removed]",
            "text/plain": [
              "<Figure size 432x288 with 1 Axes>"
            ]
          },
          "metadata": {
            "tags": [],
            "needs_background": "light"
          }
        },
        {
          "output_type": "display_data",
          "data": {
            "image/png": "[encoded data removed]",
            "text/plain": [
              "<Figure size 432x288 with 1 Axes>"
            ]
          },
          "metadata": {
            "tags": [],
            "needs_background": "light"
          }
        },
        {
          "output_type": "display_data",
          "data": {
            "image/png": "[encoded data removed]",
            "text/plain": [
              "<Figure size 432x288 with 1 Axes>"
            ]
          },
          "metadata": {
            "tags": [],
            "needs_background": "light"
          }
        }
      ]
    },
    {
      "cell_type": "markdown",
      "metadata": {
        "id": "Ql_cFQc3vl9s"
      },
      "source": [
        "1.**Job** : Here we can see the maximum people surveyed are in management, and after that in 'blue collar\" and goes on. <br>\n",
        "2.**Marital** : Here we can see the max people are married in surveyed.<br>\n",
        "3.**Education** : People mostly have 'secondary' education. the least are 'primary'.<br>\n",
        "4.**Communication** : We can see mostly people have 'cellular'.<br>\n",
        "5.**LastContactMonth** : Mostly people have been surveyed in 'May' and the least in 'Oct', 'sep','mar','dec'.<br>\n",
        "6.**Outcome**: we can see mostly attempts have 'failure' outcome.<br>\n",
        "7.**Carloan** : Mostly people do not have carloan.<br>\n",
        "8.**Default** : we can see mostly people do not default.<br>\n",
        "9.**PrevAttempts** : Mostly people have not been attempted even once. While few people have been contacted even 58 times.<br>\n",
        "10.**Noofcontacts**:Many people have 1 or 2 cotacts.<br>"
      ]
    },
    {
      "cell_type": "markdown",
      "metadata": {
        "id": "esH79hClWHrs"
      },
      "source": [
        "## Let's do the univariate analysis of continous variables."
      ]
    },
    {
      "cell_type": "code",
      "metadata": {
        "id": "CX49moAnZZjO"
      },
      "source": [
        "list_num=['Age','Balance','LastContactDay','DaysPassed', 'Call_Duration']"
      ],
      "execution_count": 23,
      "outputs": []
    },
    {
      "cell_type": "code",
      "metadata": {
        "id": "piibkJyHX3xa"
      },
      "source": [
        "import warnings\n",
        "warnings.filterwarnings(\"ignore\")"
      ],
      "execution_count": 24,
      "outputs": []
    },
    {
      "cell_type": "code",
      "metadata": {
        "colab": {
          "base_uri": "https://localhost:8080/",
          "height": 1000
        },
        "id": "dyNmqRxzWSat",
        "outputId": "71f58673-44c5-4b07-a36d-c7fec407f82e"
      },
      "source": [
        "for i in list_num:\n",
        "  print(i)\n",
        "  sns.boxplot(x=df_tr[i], color='#ff9999' ,data=df_tr)\n",
        "  plt.show()"
      ],
      "execution_count": 25,
      "outputs": [
        {
          "output_type": "stream",
          "text": [
            "Age\n"
          ],
          "name": "stdout"
        },
        {
          "output_type": "display_data",
          "data": {
            "image/png": "[encoded data removed]",
            "text/plain": [
              "<Figure size 432x288 with 1 Axes>"
            ]
          },
          "metadata": {
            "tags": [],
            "needs_background": "light"
          }
        },
        {
          "output_type": "stream",
          "text": [
            "Balance\n"
          ],
          "name": "stdout"
        },
        {
          "output_type": "display_data",
          "data": {
            "image/png": "[encoded data removed]",
            "text/plain": [
              "<Figure size 432x288 with 1 Axes>"
            ]
          },
          "metadata": {
            "tags": [],
            "needs_background": "light"
          }
        },
        {
          "output_type": "stream",
          "text": [
            "LastContactDay\n"
          ],
          "name": "stdout"
        },
        {
          "output_type": "display_data",
          "data": {
            "image/png": "[encoded data removed]",
            "text/plain": [
              "<Figure size 432x288 with 1 Axes>"
            ]
          },
          "metadata": {
            "tags": [],
            "needs_background": "light"
          }
        },
        {
          "output_type": "stream",
          "text": [
            "DaysPassed\n"
          ],
          "name": "stdout"
        },
        {
          "output_type": "display_data",
          "data": {
            "image/png": "[encoded data removed]",
            "text/plain": [
              "<Figure size 432x288 with 1 Axes>"
            ]
          },
          "metadata": {
            "tags": [],
            "needs_background": "light"
          }
        },
        {
          "output_type": "stream",
          "text": [
            "Call_Duration\n"
          ],
          "name": "stdout"
        },
        {
          "output_type": "display_data",
          "data": {
            "image/png": "[encoded data removed]",
            "text/plain": [
              "<Figure size 432x288 with 1 Axes>"
            ]
          },
          "metadata": {
            "tags": [],
            "needs_background": "light"
          }
        }
      ]
    },
    {
      "cell_type": "markdown",
      "metadata": {
        "id": "il_irD4ky_Wp"
      },
      "source": [
        "1.**Age**: we can see almost 50% are in 30-50 age groups.<br>\n",
        "2.**Balance**: We can see balance has lot variation.<br>\n",
        "3.**LastcontactDay**: We can see mostly people have been contacted within 7 to 22 days.<br>\n",
        "4.**Call_Duration**: We can see the mostly calls are in 1 min to 8 or 9 min. However many calls are more than 15 min and goes to upto 60 min.<br>\n",
        "\n",
        "With the help of the boxplot I can see outlier in the column. However as they are huge in number so we can not remove all of them as they are significant for the model.However I will remove few outliers. From 'Balance' and 'Age'. <br>\n",
        "### Let's treat the outliers now\n"
      ]
    },
    {
      "cell_type": "code",
      "metadata": {
        "colab": {
          "base_uri": "https://localhost:8080/"
        },
        "id": "6gptydKjPSYg",
        "outputId": "e0cdf366-d012-4d49-b206-da89e093a104"
      },
      "source": [
        "print(df_tr['Balance'].max())\n",
        "print(df_tr['Balance'].min())\n",
        "print(df_tr['Balance'].mean())\n",
        "print(df_tr['Balance'].median())"
      ],
      "execution_count": 26,
      "outputs": [
        {
          "output_type": "stream",
          "text": [
            "98417\n",
            "-3058\n",
            "1532.93725\n",
            "551.5\n"
          ],
          "name": "stdout"
        }
      ]
    },
    {
      "cell_type": "code",
      "metadata": {
        "id": "8OcuBuc8PzRp"
      },
      "source": [
        "df_tr.loc[df_tr['Balance']==df_tr['Balance'].max()]\n",
        "df_tr['Balance']=df_tr['Balance'].replace(df_tr['Balance'].max(), df_tr['Balance'].median())"
      ],
      "execution_count": 27,
      "outputs": []
    },
    {
      "cell_type": "code",
      "metadata": {
        "id": "A2TKhPt9RoyH"
      },
      "source": [
        "df_tr['Balance']=df_tr['Balance'].replace(df_tr['Balance'].min(), df_tr['Balance'].median())"
      ],
      "execution_count": 28,
      "outputs": []
    },
    {
      "cell_type": "code",
      "metadata": {
        "id": "NOVBtSOTR3PP",
        "colab": {
          "base_uri": "https://localhost:8080/",
          "height": 296
        },
        "outputId": "e28cc876-b421-4e96-dff9-fa0fb1c1a242"
      },
      "source": [
        "sns.boxplot(x=df_tr['Balance'], data=df_tr)"
      ],
      "execution_count": 29,
      "outputs": [
        {
          "output_type": "execute_result",
          "data": {
            "text/plain": [
              "<matplotlib.axes._subplots.AxesSubplot at 0x7fb88b90ac10>"
            ]
          },
          "metadata": {
            "tags": []
          },
          "execution_count": 29
        },
        {
          "output_type": "display_data",
          "data": {
            "image/png": "[encoded data removed]",
            "text/plain": [
              "<Figure size 432x288 with 1 Axes>"
            ]
          },
          "metadata": {
            "tags": [],
            "needs_background": "light"
          }
        }
      ]
    },
    {
      "cell_type": "code",
      "metadata": {
        "colab": {
          "base_uri": "https://localhost:8080/"
        },
        "id": "2AFbA4h8YuXX",
        "outputId": "f4c7e61c-80c7-4384-de38-919ff328a05c"
      },
      "source": [
        "df_tr['Age'].nlargest(2)"
      ],
      "execution_count": 30,
      "outputs": [
        {
          "output_type": "execute_result",
          "data": {
            "text/plain": [
              "3837    95\n",
              "2570    92\n",
              "Name: Age, dtype: int64"
            ]
          },
          "metadata": {
            "tags": []
          },
          "execution_count": 30
        }
      ]
    },
    {
      "cell_type": "code",
      "metadata": {
        "colab": {
          "base_uri": "https://localhost:8080/"
        },
        "id": "mBWrFFgpaGMm",
        "outputId": "49e132f0-4ace-4788-a6f9-a817fcc15dc2"
      },
      "source": [
        "print(df_tr['Age'].mean())\n",
        "\n",
        "print(df_tr['Age'].median())"
      ],
      "execution_count": 31,
      "outputs": [
        {
          "output_type": "stream",
          "text": [
            "41.21475\n",
            "39.0\n"
          ],
          "name": "stdout"
        }
      ]
    },
    {
      "cell_type": "code",
      "metadata": {
        "id": "xfwAI22BZboU"
      },
      "source": [
        "df_tr['Age']= df_tr['Age'].replace(df_tr['Age'].max(), df_tr['Age'].median())\n"
      ],
      "execution_count": 32,
      "outputs": []
    },
    {
      "cell_type": "code",
      "metadata": {
        "colab": {
          "base_uri": "https://localhost:8080/"
        },
        "id": "vZU0OxX_1cQo",
        "outputId": "0adc71da-76c2-4d06-8f4d-67491b12093e"
      },
      "source": [
        "df_tr['Age'].nlargest(2)"
      ],
      "execution_count": 33,
      "outputs": [
        {
          "output_type": "execute_result",
          "data": {
            "text/plain": [
              "2570    92\n",
              "1409    87\n",
              "Name: Age, dtype: int64"
            ]
          },
          "metadata": {
            "tags": []
          },
          "execution_count": 33
        }
      ]
    },
    {
      "cell_type": "code",
      "metadata": {
        "colab": {
          "base_uri": "https://localhost:8080/",
          "height": 296
        },
        "id": "NO-g1VnPaiyN",
        "outputId": "bcc22af8-b93f-4928-84dd-1c24ed1e9275"
      },
      "source": [
        "sns.boxplot(x=df_tr['Age'], data=df_tr)"
      ],
      "execution_count": 34,
      "outputs": [
        {
          "output_type": "execute_result",
          "data": {
            "text/plain": [
              "<matplotlib.axes._subplots.AxesSubplot at 0x7fb88b911990>"
            ]
          },
          "metadata": {
            "tags": []
          },
          "execution_count": 34
        },
        {
          "output_type": "display_data",
          "data": {
            "image/png": "[encoded data removed]",
            "text/plain": [
              "<Figure size 432x288 with 1 Axes>"
            ]
          },
          "metadata": {
            "tags": [],
            "needs_background": "light"
          }
        }
      ]
    },
    {
      "cell_type": "markdown",
      "metadata": {
        "id": "t4Q3_5VKayCu"
      },
      "source": [
        "We have replaced the outlier value with Median  for both the max and min. I did so  because the max value is the very far from the 2nd largest. However the 2nd largest is near the rest of the values. And I removed the min as the min value is far from the 2nd smallest value. Which we can also see in the boxplot. <br>\n",
        "We replaced the two max values with median.And now we do not have extreme outliers. As rest of the outliers are significant for the model"
      ]
    },
    {
      "cell_type": "markdown",
      "metadata": {
        "id": "Y0SP72pcchu5"
      },
      "source": [
        "# Bivariate Analysis"
      ]
    },
    {
      "cell_type": "code",
      "metadata": {
        "id": "AZgLZuLgdpfM",
        "colab": {
          "base_uri": "https://localhost:8080/",
          "height": 1000
        },
        "outputId": "952b9533-e911-4261-c27f-500b049b3a3d"
      },
      "source": [
        "for i in list_obj:\n",
        "  pd.crosstab(df_tr[i], df_tr['CarInsurance']).plot(kind='bar', stacked=True, grid=False,rot=0, color =['firebrick','lightcoral'])\n",
        "  #plt.text(df_tr[i], df_tr['CarInsurance'], \" \"+str(df_tr[i]), color='blue', va='center', fontweight='bold')\n",
        "  plt.xticks(rotation=80)\n",
        "  plt.show()"
      ],
      "execution_count": 35,
      "outputs": [
        {
          "output_type": "display_data",
          "data": {
            "image/png": "[encoded data removed]",
            "text/plain": [
              "<Figure size 432x288 with 1 Axes>"
            ]
          },
          "metadata": {
            "tags": [],
            "needs_background": "light"
          }
        },
        {
          "output_type": "display_data",
          "data": {
            "image/png": "[encoded data removed]",
            "text/plain": [
              "<Figure size 432x288 with 1 Axes>"
            ]
          },
          "metadata": {
            "tags": [],
            "needs_background": "light"
          }
        },
        {
          "output_type": "display_data",
          "data": {
            "image/png": "[encoded data removed]",
            "text/plain": [
              "<Figure size 432x288 with 1 Axes>"
            ]
          },
          "metadata": {
            "tags": [],
            "needs_background": "light"
          }
        },
        {
          "output_type": "display_data",
          "data": {
            "image/png": "[encoded data removed]",
            "text/plain": [
              "<Figure size 432x288 with 1 Axes>"
            ]
          },
          "metadata": {
            "tags": [],
            "needs_background": "light"
          }
        },
        {
          "output_type": "display_data",
          "data": {
            "image/png": "[encoded data removed]",
            "text/plain": [
              "<Figure size 432x288 with 1 Axes>"
            ]
          },
          "metadata": {
            "tags": [],
            "needs_background": "light"
          }
        },
        {
          "output_type": "display_data",
          "data": {
            "image/png": "[encoded data removed]",
            "text/plain": [
              "<Figure size 432x288 with 1 Axes>"
            ]
          },
          "metadata": {
            "tags": [],
            "needs_background": "light"
          }
        },
        {
          "output_type": "display_data",
          "data": {
            "image/png": "[encoded data removed]",
            "text/plain": [
              "<Figure size 432x288 with 1 Axes>"
            ]
          },
          "metadata": {
            "tags": [],
            "needs_background": "light"
          }
        },
        {
          "output_type": "display_data",
          "data": {
            "image/png": "[encoded data removed]",
            "text/plain": [
              "<Figure size 432x288 with 1 Axes>"
            ]
          },
          "metadata": {
            "tags": [],
            "needs_background": "light"
          }
        },
        {
          "output_type": "display_data",
          "data": {
            "image/png": "[encoded data removed]",
            "text/plain": [
              "<Figure size 432x288 with 1 Axes>"
            ]
          },
          "metadata": {
            "tags": [],
            "needs_background": "light"
          }
        },
        {
          "output_type": "display_data",
          "data": {
            "image/png": "[encoded data removed]",
            "text/plain": [
              "<Figure size 432x288 with 1 Axes>"
            ]
          },
          "metadata": {
            "tags": [],
            "needs_background": "light"
          }
        },
        {
          "output_type": "display_data",
          "data": {
            "image/png": "[encoded data removed]",
            "text/plain": [
              "<Figure size 432x288 with 1 Axes>"
            ]
          },
          "metadata": {
            "tags": [],
            "needs_background": "light"
          }
        },
        {
          "output_type": "display_data",
          "data": {
            "image/png": "[encoded data removed]",
            "text/plain": [
              "<Figure size 432x288 with 1 Axes>"
            ]
          },
          "metadata": {
            "tags": [],
            "needs_background": "light"
          }
        }
      ]
    },
    {
      "cell_type": "markdown",
      "metadata": {
        "id": "AIEf6OEKz1yk"
      },
      "source": [
        "1.We can see the among the people who have been contact in each job, the **retired** and **students** people are most likely to take insurance.<br>\n",
        "2.**Marital status do not effect the decision**  of taking insurance, as the number of total surveyed in each category, there's equal no of yes and no for car Insurance.<br>\n",
        "3.**Cellular and telephone do not effect the decision**, as equal no and yes in both. <br>\n",
        "4.We can although mostly people have been contacted in May, but onl few people took the insurance, while from the total **people contacted in 'Sep', 'Oct','mar','Dec' mostly people took the insurance**.<br>\n",
        "5.We can see the people **who took the insurance before, are more likely to take the** insurance again.<br>\n",
        "6.We can see the people **who have HHinsurance, are more likely** to take the carInsurance as well. <br>\n",
        "7.We can see the people who default  previously do not take car insurance.<br>\n",
        "8.We can see more previous attemps, more likely is the customer to take the insurance.<br>\n",
        "\n",
        "\n",
        "\n"
      ]
    },
    {
      "cell_type": "code",
      "metadata": {
        "id": "q7S4Vi-2rKMF",
        "colab": {
          "base_uri": "https://localhost:8080/",
          "height": 1000
        },
        "outputId": "e54a5b5b-1e55-4f53-ecc2-d594de04dba1"
      },
      "source": [
        "for i in list_num:\n",
        "  sns.boxplot(x='CarInsurance',y=df_tr[i], data=df_tr, palette=['teal', 'paleturquoise'])\n",
        "  plt.show()"
      ],
      "execution_count": 36,
      "outputs": [
        {
          "output_type": "display_data",
          "data": {
            "image/png": "[encoded data removed]",
            "text/plain": [
              "<Figure size 432x288 with 1 Axes>"
            ]
          },
          "metadata": {
            "tags": [],
            "needs_background": "light"
          }
        },
        {
          "output_type": "display_data",
          "data": {
            "image/png": "[encoded data removed]",
            "text/plain": [
              "<Figure size 432x288 with 1 Axes>"
            ]
          },
          "metadata": {
            "tags": [],
            "needs_background": "light"
          }
        },
        {
          "output_type": "display_data",
          "data": {
            "image/png": "[encoded data removed]",
            "text/plain": [
              "<Figure size 432x288 with 1 Axes>"
            ]
          },
          "metadata": {
            "tags": [],
            "needs_background": "light"
          }
        },
        {
          "output_type": "display_data",
          "data": {
            "image/png": "[encoded data removed]",
            "text/plain": [
              "<Figure size 432x288 with 1 Axes>"
            ]
          },
          "metadata": {
            "tags": [],
            "needs_background": "light"
          }
        },
        {
          "output_type": "display_data",
          "data": {
            "image/png": "[encoded data removed]",
            "text/plain": [
              "<Figure size 432x288 with 1 Axes>"
            ]
          },
          "metadata": {
            "tags": [],
            "needs_background": "light"
          }
        }
      ]
    },
    {
      "cell_type": "code",
      "metadata": {
        "colab": {
          "base_uri": "https://localhost:8080/",
          "height": 1000
        },
        "id": "mOhZapoI00wz",
        "outputId": "62e80964-8543-4146-a690-0b0ca9136f23"
      },
      "source": [
        "for i in list_num:\n",
        "  sns.violinplot(x='CarInsurance',y=df_tr[i], data=df_tr, palette=['teal', 'paleturquoise'])\n",
        "  plt.show()"
      ],
      "execution_count": 37,
      "outputs": [
        {
          "output_type": "display_data",
          "data": {
            "image/png": "[encoded data removed]",
            "text/plain": [
              "<Figure size 432x288 with 1 Axes>"
            ]
          },
          "metadata": {
            "tags": [],
            "needs_background": "light"
          }
        },
        {
          "output_type": "display_data",
          "data": {
            "image/png": "[encoded data removed]",
            "text/plain": [
              "<Figure size 432x288 with 1 Axes>"
            ]
          },
          "metadata": {
            "tags": [],
            "needs_background": "light"
          }
        },
        {
          "output_type": "display_data",
          "data": {
            "image/png": "[encoded data removed]",
            "text/plain": [
              "<Figure size 432x288 with 1 Axes>"
            ]
          },
          "metadata": {
            "tags": [],
            "needs_background": "light"
          }
        },
        {
          "output_type": "display_data",
          "data": {
            "image/png": "[encoded data removed]",
            "text/plain": [
              "<Figure size 432x288 with 1 Axes>"
            ]
          },
          "metadata": {
            "tags": [],
            "needs_background": "light"
          }
        },
        {
          "output_type": "display_data",
          "data": {
            "image/png": "[encoded data removed]",
            "text/plain": [
              "<Figure size 432x288 with 1 Axes>"
            ]
          },
          "metadata": {
            "tags": [],
            "needs_background": "light"
          }
        }
      ]
    },
    {
      "cell_type": "markdown",
      "metadata": {
        "id": "OT91OSOSbhd0"
      },
      "source": [
        "1.We can see from the age of 30 to 50 are more likely to take the carInsurance. However even the higher age group is \n",
        "also likely to take insurance.<br>\n",
        "2.**Balance does not effect** the carInsurance much, however with more balance the people are likely to take insurance.<br>\n",
        "3.The **more the call duration , more likely** the customer to take the carInsurance."
      ]
    },
    {
      "cell_type": "markdown",
      "metadata": {
        "id": "kp-wc4GSbRbW"
      },
      "source": [
        "# Let's do the Bivariate analysis of numerical columns with the target column."
      ]
    },
    {
      "cell_type": "markdown",
      "metadata": {
        "id": "bbOgEFuL6SZ6"
      },
      "source": [
        "As I will drop communication column. so will not treat the null values in communication columns."
      ]
    },
    {
      "cell_type": "markdown",
      "metadata": {
        "id": "lkkQSOhw34Rj"
      },
      "source": [
        "We can see Education and job are correlated columns. However both the columns have missing values in them. And there are some rows which have both the column missing. So in this case we will impute the education column on the basis of job. However as job has only 19 values missing so we will create a new category for these missing values in Job column"
      ]
    },
    {
      "cell_type": "code",
      "metadata": {
        "id": "oM3RFdDA6hn8",
        "colab": {
          "base_uri": "https://localhost:8080/",
          "height": 173
        },
        "outputId": "7cb12713-0f12-47fb-a100-b4a8b4e7e9ca"
      },
      "source": [
        "pd.crosstab(df_tr['Education'], df_tr['Job'])"
      ],
      "execution_count": 38,
      "outputs": [
        {
          "output_type": "execute_result",
          "data": {
            "text/html": [
              "<div>\n",
              "<style scoped>\n",
              "    .dataframe tbody tr th:only-of-type {\n",
              "        vertical-align: middle;\n",
              "    }\n",
              "\n",
              "    .dataframe tbody tr th {\n",
              "        vertical-align: top;\n",
              "    }\n",
              "\n",
              "    .dataframe thead th {\n",
              "        text-align: right;\n",
              "    }\n",
              "</style>\n",
              "<table border=\"1\" class=\"dataframe\">\n",
              "  <thead>\n",
              "    <tr style=\"text-align: right;\">\n",
              "      <th>Job</th>\n",
              "      <th>admin.</th>\n",
              "      <th>blue-collar</th>\n",
              "      <th>entrepreneur</th>\n",
              "      <th>housemaid</th>\n",
              "      <th>management</th>\n",
              "      <th>retired</th>\n",
              "      <th>self-employed</th>\n",
              "      <th>services</th>\n",
              "      <th>student</th>\n",
              "      <th>technician</th>\n",
              "      <th>unemployed</th>\n",
              "    </tr>\n",
              "    <tr>\n",
              "      <th>Education</th>\n",
              "      <th></th>\n",
              "      <th></th>\n",
              "      <th></th>\n",
              "      <th></th>\n",
              "      <th></th>\n",
              "      <th></th>\n",
              "      <th></th>\n",
              "      <th></th>\n",
              "      <th></th>\n",
              "      <th></th>\n",
              "      <th></th>\n",
              "    </tr>\n",
              "  </thead>\n",
              "  <tbody>\n",
              "    <tr>\n",
              "      <th>primary</th>\n",
              "      <td>9</td>\n",
              "      <td>281</td>\n",
              "      <td>13</td>\n",
              "      <td>56</td>\n",
              "      <td>22</td>\n",
              "      <td>93</td>\n",
              "      <td>6</td>\n",
              "      <td>27</td>\n",
              "      <td>8</td>\n",
              "      <td>16</td>\n",
              "      <td>26</td>\n",
              "    </tr>\n",
              "    <tr>\n",
              "      <th>secondary</th>\n",
              "      <td>374</td>\n",
              "      <td>430</td>\n",
              "      <td>50</td>\n",
              "      <td>33</td>\n",
              "      <td>94</td>\n",
              "      <td>100</td>\n",
              "      <td>43</td>\n",
              "      <td>269</td>\n",
              "      <td>67</td>\n",
              "      <td>446</td>\n",
              "      <td>77</td>\n",
              "    </tr>\n",
              "    <tr>\n",
              "      <th>tertiary</th>\n",
              "      <td>62</td>\n",
              "      <td>17</td>\n",
              "      <td>55</td>\n",
              "      <td>16</td>\n",
              "      <td>751</td>\n",
              "      <td>37</td>\n",
              "      <td>84</td>\n",
              "      <td>25</td>\n",
              "      <td>31</td>\n",
              "      <td>177</td>\n",
              "      <td>25</td>\n",
              "    </tr>\n",
              "  </tbody>\n",
              "</table>\n",
              "</div>"
            ],
            "text/plain": [
              "Job        admin.  blue-collar  entrepreneur  ...  student  technician  unemployed\n",
              "Education                                     ...                                 \n",
              "primary         9          281            13  ...        8          16          26\n",
              "secondary     374          430            50  ...       67         446          77\n",
              "tertiary       62           17            55  ...       31         177          25\n",
              "\n",
              "[3 rows x 11 columns]"
            ]
          },
          "metadata": {
            "tags": []
          },
          "execution_count": 38
        }
      ]
    },
    {
      "cell_type": "code",
      "metadata": {
        "id": "p4NfNLOD8N3E",
        "colab": {
          "base_uri": "https://localhost:8080/",
          "height": 1000
        },
        "outputId": "ebca8344-b1fe-4854-b2f4-1a55049d86c0"
      },
      "source": [
        "x=df_tr[df_tr['Job'].isnull()]\n",
        "x"
      ],
      "execution_count": 39,
      "outputs": [
        {
          "output_type": "execute_result",
          "data": {
            "text/html": [
              "<div>\n",
              "<style scoped>\n",
              "    .dataframe tbody tr th:only-of-type {\n",
              "        vertical-align: middle;\n",
              "    }\n",
              "\n",
              "    .dataframe tbody tr th {\n",
              "        vertical-align: top;\n",
              "    }\n",
              "\n",
              "    .dataframe thead th {\n",
              "        text-align: right;\n",
              "    }\n",
              "</style>\n",
              "<table border=\"1\" class=\"dataframe\">\n",
              "  <thead>\n",
              "    <tr style=\"text-align: right;\">\n",
              "      <th></th>\n",
              "      <th>Id</th>\n",
              "      <th>Age</th>\n",
              "      <th>Job</th>\n",
              "      <th>Marital</th>\n",
              "      <th>Education</th>\n",
              "      <th>Default</th>\n",
              "      <th>Balance</th>\n",
              "      <th>HHInsurance</th>\n",
              "      <th>CarLoan</th>\n",
              "      <th>Communication</th>\n",
              "      <th>LastContactDay</th>\n",
              "      <th>LastContactMonth</th>\n",
              "      <th>NoOfContacts</th>\n",
              "      <th>DaysPassed</th>\n",
              "      <th>PrevAttempts</th>\n",
              "      <th>Outcome</th>\n",
              "      <th>CallStart</th>\n",
              "      <th>CallEnd</th>\n",
              "      <th>CarInsurance</th>\n",
              "      <th>Call_Duration</th>\n",
              "    </tr>\n",
              "  </thead>\n",
              "  <tbody>\n",
              "    <tr>\n",
              "      <th>27</th>\n",
              "      <td>28</td>\n",
              "      <td>45</td>\n",
              "      <td>NaN</td>\n",
              "      <td>divorced</td>\n",
              "      <td>NaN</td>\n",
              "      <td>0</td>\n",
              "      <td>0.0</td>\n",
              "      <td>0</td>\n",
              "      <td>0</td>\n",
              "      <td>cellular</td>\n",
              "      <td>21</td>\n",
              "      <td>apr</td>\n",
              "      <td>3</td>\n",
              "      <td>-1</td>\n",
              "      <td>0</td>\n",
              "      <td>NaN</td>\n",
              "      <td>2021-06-21 12:33:22</td>\n",
              "      <td>2021-06-21 12:38:00</td>\n",
              "      <td>1</td>\n",
              "      <td>5</td>\n",
              "    </tr>\n",
              "    <tr>\n",
              "      <th>239</th>\n",
              "      <td>240</td>\n",
              "      <td>41</td>\n",
              "      <td>NaN</td>\n",
              "      <td>single</td>\n",
              "      <td>NaN</td>\n",
              "      <td>0</td>\n",
              "      <td>942.0</td>\n",
              "      <td>0</td>\n",
              "      <td>0</td>\n",
              "      <td>cellular</td>\n",
              "      <td>27</td>\n",
              "      <td>oct</td>\n",
              "      <td>1</td>\n",
              "      <td>188</td>\n",
              "      <td>1</td>\n",
              "      <td>success</td>\n",
              "      <td>2021-06-21 16:39:43</td>\n",
              "      <td>2021-06-21 16:42:06</td>\n",
              "      <td>1</td>\n",
              "      <td>2</td>\n",
              "    </tr>\n",
              "    <tr>\n",
              "      <th>486</th>\n",
              "      <td>487</td>\n",
              "      <td>54</td>\n",
              "      <td>NaN</td>\n",
              "      <td>married</td>\n",
              "      <td>primary</td>\n",
              "      <td>0</td>\n",
              "      <td>981.0</td>\n",
              "      <td>0</td>\n",
              "      <td>0</td>\n",
              "      <td>cellular</td>\n",
              "      <td>22</td>\n",
              "      <td>aug</td>\n",
              "      <td>12</td>\n",
              "      <td>-1</td>\n",
              "      <td>0</td>\n",
              "      <td>NaN</td>\n",
              "      <td>2021-06-21 11:31:36</td>\n",
              "      <td>2021-06-21 11:42:27</td>\n",
              "      <td>0</td>\n",
              "      <td>11</td>\n",
              "    </tr>\n",
              "    <tr>\n",
              "      <th>536</th>\n",
              "      <td>537</td>\n",
              "      <td>33</td>\n",
              "      <td>NaN</td>\n",
              "      <td>single</td>\n",
              "      <td>secondary</td>\n",
              "      <td>0</td>\n",
              "      <td>1522.0</td>\n",
              "      <td>0</td>\n",
              "      <td>1</td>\n",
              "      <td>cellular</td>\n",
              "      <td>19</td>\n",
              "      <td>nov</td>\n",
              "      <td>1</td>\n",
              "      <td>-1</td>\n",
              "      <td>0</td>\n",
              "      <td>NaN</td>\n",
              "      <td>2021-06-21 12:44:40</td>\n",
              "      <td>2021-06-21 13:00:46</td>\n",
              "      <td>0</td>\n",
              "      <td>16</td>\n",
              "    </tr>\n",
              "    <tr>\n",
              "      <th>605</th>\n",
              "      <td>606</td>\n",
              "      <td>53</td>\n",
              "      <td>NaN</td>\n",
              "      <td>married</td>\n",
              "      <td>primary</td>\n",
              "      <td>0</td>\n",
              "      <td>732.0</td>\n",
              "      <td>0</td>\n",
              "      <td>0</td>\n",
              "      <td>cellular</td>\n",
              "      <td>27</td>\n",
              "      <td>oct</td>\n",
              "      <td>2</td>\n",
              "      <td>-1</td>\n",
              "      <td>0</td>\n",
              "      <td>NaN</td>\n",
              "      <td>2021-06-21 09:01:01</td>\n",
              "      <td>2021-06-21 09:13:40</td>\n",
              "      <td>1</td>\n",
              "      <td>13</td>\n",
              "    </tr>\n",
              "    <tr>\n",
              "      <th>1130</th>\n",
              "      <td>1131</td>\n",
              "      <td>55</td>\n",
              "      <td>NaN</td>\n",
              "      <td>married</td>\n",
              "      <td>tertiary</td>\n",
              "      <td>0</td>\n",
              "      <td>0.0</td>\n",
              "      <td>0</td>\n",
              "      <td>0</td>\n",
              "      <td>NaN</td>\n",
              "      <td>5</td>\n",
              "      <td>jun</td>\n",
              "      <td>1</td>\n",
              "      <td>-1</td>\n",
              "      <td>0</td>\n",
              "      <td>NaN</td>\n",
              "      <td>2021-06-21 14:36:38</td>\n",
              "      <td>2021-06-21 14:37:16</td>\n",
              "      <td>0</td>\n",
              "      <td>1</td>\n",
              "    </tr>\n",
              "    <tr>\n",
              "      <th>1147</th>\n",
              "      <td>1148</td>\n",
              "      <td>50</td>\n",
              "      <td>NaN</td>\n",
              "      <td>married</td>\n",
              "      <td>NaN</td>\n",
              "      <td>0</td>\n",
              "      <td>558.0</td>\n",
              "      <td>0</td>\n",
              "      <td>0</td>\n",
              "      <td>cellular</td>\n",
              "      <td>9</td>\n",
              "      <td>jul</td>\n",
              "      <td>1</td>\n",
              "      <td>683</td>\n",
              "      <td>6</td>\n",
              "      <td>failure</td>\n",
              "      <td>2021-06-21 09:01:52</td>\n",
              "      <td>2021-06-21 09:09:36</td>\n",
              "      <td>1</td>\n",
              "      <td>8</td>\n",
              "    </tr>\n",
              "    <tr>\n",
              "      <th>1438</th>\n",
              "      <td>1439</td>\n",
              "      <td>27</td>\n",
              "      <td>NaN</td>\n",
              "      <td>single</td>\n",
              "      <td>secondary</td>\n",
              "      <td>0</td>\n",
              "      <td>1187.0</td>\n",
              "      <td>0</td>\n",
              "      <td>0</td>\n",
              "      <td>telephone</td>\n",
              "      <td>26</td>\n",
              "      <td>feb</td>\n",
              "      <td>1</td>\n",
              "      <td>101</td>\n",
              "      <td>1</td>\n",
              "      <td>failure</td>\n",
              "      <td>2021-06-21 09:13:46</td>\n",
              "      <td>2021-06-21 09:17:38</td>\n",
              "      <td>1</td>\n",
              "      <td>4</td>\n",
              "    </tr>\n",
              "    <tr>\n",
              "      <th>1755</th>\n",
              "      <td>1756</td>\n",
              "      <td>28</td>\n",
              "      <td>NaN</td>\n",
              "      <td>single</td>\n",
              "      <td>secondary</td>\n",
              "      <td>0</td>\n",
              "      <td>4465.0</td>\n",
              "      <td>0</td>\n",
              "      <td>0</td>\n",
              "      <td>cellular</td>\n",
              "      <td>28</td>\n",
              "      <td>jan</td>\n",
              "      <td>1</td>\n",
              "      <td>-1</td>\n",
              "      <td>0</td>\n",
              "      <td>NaN</td>\n",
              "      <td>2021-06-21 14:03:50</td>\n",
              "      <td>2021-06-21 14:16:39</td>\n",
              "      <td>1</td>\n",
              "      <td>13</td>\n",
              "    </tr>\n",
              "    <tr>\n",
              "      <th>1978</th>\n",
              "      <td>1979</td>\n",
              "      <td>49</td>\n",
              "      <td>NaN</td>\n",
              "      <td>single</td>\n",
              "      <td>tertiary</td>\n",
              "      <td>0</td>\n",
              "      <td>2226.0</td>\n",
              "      <td>0</td>\n",
              "      <td>0</td>\n",
              "      <td>NaN</td>\n",
              "      <td>17</td>\n",
              "      <td>jun</td>\n",
              "      <td>3</td>\n",
              "      <td>-1</td>\n",
              "      <td>0</td>\n",
              "      <td>NaN</td>\n",
              "      <td>2021-06-21 17:14:08</td>\n",
              "      <td>2021-06-21 17:16:26</td>\n",
              "      <td>0</td>\n",
              "      <td>2</td>\n",
              "    </tr>\n",
              "    <tr>\n",
              "      <th>2032</th>\n",
              "      <td>2033</td>\n",
              "      <td>44</td>\n",
              "      <td>NaN</td>\n",
              "      <td>married</td>\n",
              "      <td>NaN</td>\n",
              "      <td>0</td>\n",
              "      <td>722.0</td>\n",
              "      <td>1</td>\n",
              "      <td>0</td>\n",
              "      <td>telephone</td>\n",
              "      <td>22</td>\n",
              "      <td>jul</td>\n",
              "      <td>2</td>\n",
              "      <td>-1</td>\n",
              "      <td>0</td>\n",
              "      <td>NaN</td>\n",
              "      <td>2021-06-21 14:34:58</td>\n",
              "      <td>2021-06-21 14:39:27</td>\n",
              "      <td>0</td>\n",
              "      <td>4</td>\n",
              "    </tr>\n",
              "    <tr>\n",
              "      <th>2168</th>\n",
              "      <td>2169</td>\n",
              "      <td>55</td>\n",
              "      <td>NaN</td>\n",
              "      <td>married</td>\n",
              "      <td>secondary</td>\n",
              "      <td>0</td>\n",
              "      <td>2206.0</td>\n",
              "      <td>0</td>\n",
              "      <td>0</td>\n",
              "      <td>cellular</td>\n",
              "      <td>12</td>\n",
              "      <td>aug</td>\n",
              "      <td>1</td>\n",
              "      <td>91</td>\n",
              "      <td>5</td>\n",
              "      <td>success</td>\n",
              "      <td>2021-06-21 13:00:55</td>\n",
              "      <td>2021-06-21 13:05:20</td>\n",
              "      <td>1</td>\n",
              "      <td>4</td>\n",
              "    </tr>\n",
              "    <tr>\n",
              "      <th>2655</th>\n",
              "      <td>2656</td>\n",
              "      <td>46</td>\n",
              "      <td>NaN</td>\n",
              "      <td>single</td>\n",
              "      <td>primary</td>\n",
              "      <td>0</td>\n",
              "      <td>10.0</td>\n",
              "      <td>0</td>\n",
              "      <td>0</td>\n",
              "      <td>NaN</td>\n",
              "      <td>18</td>\n",
              "      <td>jun</td>\n",
              "      <td>6</td>\n",
              "      <td>-1</td>\n",
              "      <td>0</td>\n",
              "      <td>NaN</td>\n",
              "      <td>2021-06-21 17:21:19</td>\n",
              "      <td>2021-06-21 17:22:23</td>\n",
              "      <td>0</td>\n",
              "      <td>1</td>\n",
              "    </tr>\n",
              "    <tr>\n",
              "      <th>2685</th>\n",
              "      <td>2686</td>\n",
              "      <td>50</td>\n",
              "      <td>NaN</td>\n",
              "      <td>married</td>\n",
              "      <td>NaN</td>\n",
              "      <td>0</td>\n",
              "      <td>1533.0</td>\n",
              "      <td>0</td>\n",
              "      <td>0</td>\n",
              "      <td>cellular</td>\n",
              "      <td>4</td>\n",
              "      <td>aug</td>\n",
              "      <td>1</td>\n",
              "      <td>-1</td>\n",
              "      <td>0</td>\n",
              "      <td>NaN</td>\n",
              "      <td>2021-06-21 14:36:57</td>\n",
              "      <td>2021-06-21 14:39:34</td>\n",
              "      <td>0</td>\n",
              "      <td>3</td>\n",
              "    </tr>\n",
              "    <tr>\n",
              "      <th>2842</th>\n",
              "      <td>2843</td>\n",
              "      <td>28</td>\n",
              "      <td>NaN</td>\n",
              "      <td>single</td>\n",
              "      <td>NaN</td>\n",
              "      <td>0</td>\n",
              "      <td>326.0</td>\n",
              "      <td>0</td>\n",
              "      <td>0</td>\n",
              "      <td>cellular</td>\n",
              "      <td>11</td>\n",
              "      <td>oct</td>\n",
              "      <td>1</td>\n",
              "      <td>231</td>\n",
              "      <td>1</td>\n",
              "      <td>success</td>\n",
              "      <td>2021-06-21 10:11:10</td>\n",
              "      <td>2021-06-21 10:18:40</td>\n",
              "      <td>1</td>\n",
              "      <td>8</td>\n",
              "    </tr>\n",
              "    <tr>\n",
              "      <th>2941</th>\n",
              "      <td>2942</td>\n",
              "      <td>78</td>\n",
              "      <td>NaN</td>\n",
              "      <td>married</td>\n",
              "      <td>NaN</td>\n",
              "      <td>0</td>\n",
              "      <td>2235.0</td>\n",
              "      <td>0</td>\n",
              "      <td>0</td>\n",
              "      <td>telephone</td>\n",
              "      <td>14</td>\n",
              "      <td>apr</td>\n",
              "      <td>3</td>\n",
              "      <td>-1</td>\n",
              "      <td>0</td>\n",
              "      <td>NaN</td>\n",
              "      <td>2021-06-21 16:31:36</td>\n",
              "      <td>2021-06-21 16:36:36</td>\n",
              "      <td>1</td>\n",
              "      <td>5</td>\n",
              "    </tr>\n",
              "    <tr>\n",
              "      <th>3490</th>\n",
              "      <td>3491</td>\n",
              "      <td>43</td>\n",
              "      <td>NaN</td>\n",
              "      <td>married</td>\n",
              "      <td>primary</td>\n",
              "      <td>0</td>\n",
              "      <td>2113.0</td>\n",
              "      <td>0</td>\n",
              "      <td>0</td>\n",
              "      <td>cellular</td>\n",
              "      <td>29</td>\n",
              "      <td>jul</td>\n",
              "      <td>2</td>\n",
              "      <td>-1</td>\n",
              "      <td>0</td>\n",
              "      <td>NaN</td>\n",
              "      <td>2021-06-21 12:39:57</td>\n",
              "      <td>2021-06-21 12:40:30</td>\n",
              "      <td>0</td>\n",
              "      <td>1</td>\n",
              "    </tr>\n",
              "    <tr>\n",
              "      <th>3615</th>\n",
              "      <td>3616</td>\n",
              "      <td>39</td>\n",
              "      <td>NaN</td>\n",
              "      <td>single</td>\n",
              "      <td>NaN</td>\n",
              "      <td>0</td>\n",
              "      <td>0.0</td>\n",
              "      <td>0</td>\n",
              "      <td>0</td>\n",
              "      <td>telephone</td>\n",
              "      <td>28</td>\n",
              "      <td>jan</td>\n",
              "      <td>1</td>\n",
              "      <td>-1</td>\n",
              "      <td>0</td>\n",
              "      <td>NaN</td>\n",
              "      <td>2021-06-21 10:20:54</td>\n",
              "      <td>2021-06-21 10:21:22</td>\n",
              "      <td>0</td>\n",
              "      <td>0</td>\n",
              "    </tr>\n",
              "    <tr>\n",
              "      <th>3738</th>\n",
              "      <td>3739</td>\n",
              "      <td>26</td>\n",
              "      <td>NaN</td>\n",
              "      <td>divorced</td>\n",
              "      <td>secondary</td>\n",
              "      <td>0</td>\n",
              "      <td>-295.0</td>\n",
              "      <td>1</td>\n",
              "      <td>0</td>\n",
              "      <td>cellular</td>\n",
              "      <td>7</td>\n",
              "      <td>may</td>\n",
              "      <td>1</td>\n",
              "      <td>-1</td>\n",
              "      <td>0</td>\n",
              "      <td>NaN</td>\n",
              "      <td>2021-06-21 09:59:39</td>\n",
              "      <td>2021-06-21 10:08:55</td>\n",
              "      <td>0</td>\n",
              "      <td>9</td>\n",
              "    </tr>\n",
              "  </tbody>\n",
              "</table>\n",
              "</div>"
            ],
            "text/plain": [
              "        Id  Age  Job  ...             CallEnd CarInsurance  Call_Duration\n",
              "27      28   45  NaN  ... 2021-06-21 12:38:00            1              5\n",
              "239    240   41  NaN  ... 2021-06-21 16:42:06            1              2\n",
              "486    487   54  NaN  ... 2021-06-21 11:42:27            0             11\n",
              "536    537   33  NaN  ... 2021-06-21 13:00:46            0             16\n",
              "605    606   53  NaN  ... 2021-06-21 09:13:40            1             13\n",
              "1130  1131   55  NaN  ... 2021-06-21 14:37:16            0              1\n",
              "1147  1148   50  NaN  ... 2021-06-21 09:09:36            1              8\n",
              "1438  1439   27  NaN  ... 2021-06-21 09:17:38            1              4\n",
              "1755  1756   28  NaN  ... 2021-06-21 14:16:39            1             13\n",
              "1978  1979   49  NaN  ... 2021-06-21 17:16:26            0              2\n",
              "2032  2033   44  NaN  ... 2021-06-21 14:39:27            0              4\n",
              "2168  2169   55  NaN  ... 2021-06-21 13:05:20            1              4\n",
              "2655  2656   46  NaN  ... 2021-06-21 17:22:23            0              1\n",
              "2685  2686   50  NaN  ... 2021-06-21 14:39:34            0              3\n",
              "2842  2843   28  NaN  ... 2021-06-21 10:18:40            1              8\n",
              "2941  2942   78  NaN  ... 2021-06-21 16:36:36            1              5\n",
              "3490  3491   43  NaN  ... 2021-06-21 12:40:30            0              1\n",
              "3615  3616   39  NaN  ... 2021-06-21 10:21:22            0              0\n",
              "3738  3739   26  NaN  ... 2021-06-21 10:08:55            0              9\n",
              "\n",
              "[19 rows x 20 columns]"
            ]
          },
          "metadata": {
            "tags": []
          },
          "execution_count": 39
        }
      ]
    },
    {
      "cell_type": "code",
      "metadata": {
        "id": "1q7fpcbv_6KE",
        "colab": {
          "base_uri": "https://localhost:8080/"
        },
        "outputId": "d33e21e9-8510-45cb-b187-0ec33edfae5b"
      },
      "source": [
        "\n",
        "df_tr['Job'] = df_tr['Job'].fillna('None')\n",
        "df_tr['Job'].isnull().sum()"
      ],
      "execution_count": 40,
      "outputs": [
        {
          "output_type": "execute_result",
          "data": {
            "text/plain": [
              "0"
            ]
          },
          "metadata": {
            "tags": []
          },
          "execution_count": 40
        }
      ]
    },
    {
      "cell_type": "code",
      "metadata": {
        "id": "naHcXNJJBEV8",
        "colab": {
          "base_uri": "https://localhost:8080/"
        },
        "outputId": "0baf311b-2cb2-4580-d768-14d846390a9a"
      },
      "source": [
        "df_tr['Job'].value_counts()"
      ],
      "execution_count": 41,
      "outputs": [
        {
          "output_type": "execute_result",
          "data": {
            "text/plain": [
              "management       893\n",
              "blue-collar      759\n",
              "technician       660\n",
              "admin.           459\n",
              "services         330\n",
              "retired          249\n",
              "self-employed    140\n",
              "student          131\n",
              "unemployed       130\n",
              "entrepreneur     121\n",
              "housemaid        109\n",
              "None              19\n",
              "Name: Job, dtype: int64"
            ]
          },
          "metadata": {
            "tags": []
          },
          "execution_count": 41
        }
      ]
    },
    {
      "cell_type": "code",
      "metadata": {
        "id": "ikdTHIISBJO5",
        "colab": {
          "base_uri": "https://localhost:8080/"
        },
        "outputId": "a4e70f79-f873-4b51-c67e-91f4c6af1d75"
      },
      "source": [
        "df_tr['Education'].value_counts(dropna=False)"
      ],
      "execution_count": 42,
      "outputs": [
        {
          "output_type": "execute_result",
          "data": {
            "text/plain": [
              "secondary    1988\n",
              "tertiary     1282\n",
              "primary       561\n",
              "NaN           169\n",
              "Name: Education, dtype: int64"
            ]
          },
          "metadata": {
            "tags": []
          },
          "execution_count": 42
        }
      ]
    },
    {
      "cell_type": "markdown",
      "metadata": {
        "id": "T_iRPqm_4bo_"
      },
      "source": [
        "so here we checked the mode for each type of job. so that we can impute the education column according to their education"
      ]
    },
    {
      "cell_type": "code",
      "metadata": {
        "id": "Y8-vPpHDBTGC",
        "colab": {
          "base_uri": "https://localhost:8080/",
          "height": 452
        },
        "outputId": "aacac925-86b0-41de-d84c-b30d7d21bd30"
      },
      "source": [
        "pd.crosstab(df_tr['Job'], df_tr['Education'])"
      ],
      "execution_count": 43,
      "outputs": [
        {
          "output_type": "execute_result",
          "data": {
            "text/html": [
              "<div>\n",
              "<style scoped>\n",
              "    .dataframe tbody tr th:only-of-type {\n",
              "        vertical-align: middle;\n",
              "    }\n",
              "\n",
              "    .dataframe tbody tr th {\n",
              "        vertical-align: top;\n",
              "    }\n",
              "\n",
              "    .dataframe thead th {\n",
              "        text-align: right;\n",
              "    }\n",
              "</style>\n",
              "<table border=\"1\" class=\"dataframe\">\n",
              "  <thead>\n",
              "    <tr style=\"text-align: right;\">\n",
              "      <th>Education</th>\n",
              "      <th>primary</th>\n",
              "      <th>secondary</th>\n",
              "      <th>tertiary</th>\n",
              "    </tr>\n",
              "    <tr>\n",
              "      <th>Job</th>\n",
              "      <th></th>\n",
              "      <th></th>\n",
              "      <th></th>\n",
              "    </tr>\n",
              "  </thead>\n",
              "  <tbody>\n",
              "    <tr>\n",
              "      <th>None</th>\n",
              "      <td>4</td>\n",
              "      <td>5</td>\n",
              "      <td>2</td>\n",
              "    </tr>\n",
              "    <tr>\n",
              "      <th>admin.</th>\n",
              "      <td>9</td>\n",
              "      <td>374</td>\n",
              "      <td>62</td>\n",
              "    </tr>\n",
              "    <tr>\n",
              "      <th>blue-collar</th>\n",
              "      <td>281</td>\n",
              "      <td>430</td>\n",
              "      <td>17</td>\n",
              "    </tr>\n",
              "    <tr>\n",
              "      <th>entrepreneur</th>\n",
              "      <td>13</td>\n",
              "      <td>50</td>\n",
              "      <td>55</td>\n",
              "    </tr>\n",
              "    <tr>\n",
              "      <th>housemaid</th>\n",
              "      <td>56</td>\n",
              "      <td>33</td>\n",
              "      <td>16</td>\n",
              "    </tr>\n",
              "    <tr>\n",
              "      <th>management</th>\n",
              "      <td>22</td>\n",
              "      <td>94</td>\n",
              "      <td>751</td>\n",
              "    </tr>\n",
              "    <tr>\n",
              "      <th>retired</th>\n",
              "      <td>93</td>\n",
              "      <td>100</td>\n",
              "      <td>37</td>\n",
              "    </tr>\n",
              "    <tr>\n",
              "      <th>self-employed</th>\n",
              "      <td>6</td>\n",
              "      <td>43</td>\n",
              "      <td>84</td>\n",
              "    </tr>\n",
              "    <tr>\n",
              "      <th>services</th>\n",
              "      <td>27</td>\n",
              "      <td>269</td>\n",
              "      <td>25</td>\n",
              "    </tr>\n",
              "    <tr>\n",
              "      <th>student</th>\n",
              "      <td>8</td>\n",
              "      <td>67</td>\n",
              "      <td>31</td>\n",
              "    </tr>\n",
              "    <tr>\n",
              "      <th>technician</th>\n",
              "      <td>16</td>\n",
              "      <td>446</td>\n",
              "      <td>177</td>\n",
              "    </tr>\n",
              "    <tr>\n",
              "      <th>unemployed</th>\n",
              "      <td>26</td>\n",
              "      <td>77</td>\n",
              "      <td>25</td>\n",
              "    </tr>\n",
              "  </tbody>\n",
              "</table>\n",
              "</div>"
            ],
            "text/plain": [
              "Education      primary  secondary  tertiary\n",
              "Job                                        \n",
              "None                 4          5         2\n",
              "admin.               9        374        62\n",
              "blue-collar        281        430        17\n",
              "entrepreneur        13         50        55\n",
              "housemaid           56         33        16\n",
              "management          22         94       751\n",
              "retired             93        100        37\n",
              "self-employed        6         43        84\n",
              "services            27        269        25\n",
              "student              8         67        31\n",
              "technician          16        446       177\n",
              "unemployed          26         77        25"
            ]
          },
          "metadata": {
            "tags": []
          },
          "execution_count": 43
        }
      ]
    },
    {
      "cell_type": "code",
      "metadata": {
        "id": "1Rs1CjmRXkPN"
      },
      "source": [
        "job_types=df_tr['Job'].value_counts().index"
      ],
      "execution_count": 44,
      "outputs": []
    },
    {
      "cell_type": "code",
      "metadata": {
        "id": "LmrGHQB_C1Mt",
        "colab": {
          "base_uri": "https://localhost:8080/"
        },
        "outputId": "63807e23-3784-426e-e285-59a872419374"
      },
      "source": [
        "edu_mode=[]\n",
        "for job in job_types:\n",
        "    mode = df_tr[df_tr.Job==job]['Education'].value_counts().nlargest(1).index\n",
        "    edu_mode = np.append(edu_mode,mode)\n",
        "edu_map=pd.Series(edu_mode,index=df_tr.Job.value_counts().index)\n",
        "\n",
        "edu_map"
      ],
      "execution_count": 45,
      "outputs": [
        {
          "output_type": "execute_result",
          "data": {
            "text/plain": [
              "management        tertiary\n",
              "blue-collar      secondary\n",
              "technician       secondary\n",
              "admin.           secondary\n",
              "services         secondary\n",
              "retired          secondary\n",
              "self-employed     tertiary\n",
              "student          secondary\n",
              "unemployed       secondary\n",
              "entrepreneur      tertiary\n",
              "housemaid          primary\n",
              "None             secondary\n",
              "dtype: object"
            ]
          },
          "metadata": {
            "tags": []
          },
          "execution_count": 45
        }
      ]
    },
    {
      "cell_type": "code",
      "metadata": {
        "id": "Kq722RdXGdla"
      },
      "source": [
        "for j in job_types:\n",
        "    df_tr.loc[(df_tr['Education'].isnull()) & (df_tr['Job']==j),'Education'] = edu_map.loc[edu_map.index==j][0]\n"
      ],
      "execution_count": 46,
      "outputs": []
    },
    {
      "cell_type": "markdown",
      "metadata": {
        "id": "EkUJQEbj4w3O"
      },
      "source": [
        "Here we have replaced the missing value and imputed them with the mode of each type of job. And imputed with NONE , which have missing value for job also."
      ]
    },
    {
      "cell_type": "code",
      "metadata": {
        "id": "jFKYrFD_DHzC"
      },
      "source": [
        "df_tr['Education'].fillna('None',inplace=True)"
      ],
      "execution_count": 47,
      "outputs": []
    },
    {
      "cell_type": "code",
      "metadata": {
        "id": "QM3qJ8vkD8lq",
        "colab": {
          "base_uri": "https://localhost:8080/"
        },
        "outputId": "7dfac563-e784-4d88-d5a1-97ec954a3c05"
      },
      "source": [
        "df_tr['Outcome'].value_counts(dropna=False)"
      ],
      "execution_count": 48,
      "outputs": [
        {
          "output_type": "execute_result",
          "data": {
            "text/plain": [
              "NaN        3042\n",
              "failure     437\n",
              "success     326\n",
              "other       195\n",
              "Name: Outcome, dtype: int64"
            ]
          },
          "metadata": {
            "tags": []
          },
          "execution_count": 48
        }
      ]
    },
    {
      "cell_type": "markdown",
      "metadata": {
        "id": "wT8ANUId5GAU"
      },
      "source": [
        "We imputed the missing values in outcome where dayspassed is -1."
      ]
    },
    {
      "cell_type": "code",
      "metadata": {
        "id": "YZwKU-PqIlkn",
        "colab": {
          "base_uri": "https://localhost:8080/"
        },
        "outputId": "77739c41-fc68-4cb7-879d-d7766e4dee39"
      },
      "source": [
        "df_tr.loc[df_tr['DaysPassed']==-1,'Outcome']='NoPrev'\n",
        "df_tr['Outcome'].value_counts(dropna=False)"
      ],
      "execution_count": 49,
      "outputs": [
        {
          "output_type": "execute_result",
          "data": {
            "text/plain": [
              "NoPrev     3042\n",
              "failure     437\n",
              "success     326\n",
              "other       195\n",
              "Name: Outcome, dtype: int64"
            ]
          },
          "metadata": {
            "tags": []
          },
          "execution_count": 49
        }
      ]
    },
    {
      "cell_type": "code",
      "metadata": {
        "id": "msW1TUoBJPeO",
        "colab": {
          "base_uri": "https://localhost:8080/"
        },
        "outputId": "82475342-ad2b-476b-cec2-79ded838cf7a"
      },
      "source": [
        "df_tr.isnull().sum()"
      ],
      "execution_count": 50,
      "outputs": [
        {
          "output_type": "execute_result",
          "data": {
            "text/plain": [
              "Id                    0\n",
              "Age                   0\n",
              "Job                   0\n",
              "Marital               0\n",
              "Education             0\n",
              "Default               0\n",
              "Balance               0\n",
              "HHInsurance           0\n",
              "CarLoan               0\n",
              "Communication       902\n",
              "LastContactDay        0\n",
              "LastContactMonth      0\n",
              "NoOfContacts          0\n",
              "DaysPassed            0\n",
              "PrevAttempts          0\n",
              "Outcome               0\n",
              "CallStart             0\n",
              "CallEnd               0\n",
              "CarInsurance          0\n",
              "Call_Duration         0\n",
              "dtype: int64"
            ]
          },
          "metadata": {
            "tags": []
          },
          "execution_count": 50
        }
      ]
    },
    {
      "cell_type": "markdown",
      "metadata": {
        "id": "PqSlziQW5VKD"
      },
      "source": [
        "Here we can see we have imputed all the missing values except in communication. As we are going to drop this."
      ]
    },
    {
      "cell_type": "code",
      "metadata": {
        "id": "lABmgN2YJYVn"
      },
      "source": [
        "df_tr.drop(columns=['Id','Communication','CallStart','CallEnd', 'Default'], axis='columns', inplace=True)"
      ],
      "execution_count": 51,
      "outputs": []
    },
    {
      "cell_type": "code",
      "metadata": {
        "id": "px9HHR3sJ9f_",
        "colab": {
          "base_uri": "https://localhost:8080/",
          "height": 224
        },
        "outputId": "9d371071-1f6e-4d5f-ed7c-a7177c077129"
      },
      "source": [
        "df_tr.head()"
      ],
      "execution_count": 52,
      "outputs": [
        {
          "output_type": "execute_result",
          "data": {
            "text/html": [
              "<div>\n",
              "<style scoped>\n",
              "    .dataframe tbody tr th:only-of-type {\n",
              "        vertical-align: middle;\n",
              "    }\n",
              "\n",
              "    .dataframe tbody tr th {\n",
              "        vertical-align: top;\n",
              "    }\n",
              "\n",
              "    .dataframe thead th {\n",
              "        text-align: right;\n",
              "    }\n",
              "</style>\n",
              "<table border=\"1\" class=\"dataframe\">\n",
              "  <thead>\n",
              "    <tr style=\"text-align: right;\">\n",
              "      <th></th>\n",
              "      <th>Age</th>\n",
              "      <th>Job</th>\n",
              "      <th>Marital</th>\n",
              "      <th>Education</th>\n",
              "      <th>Balance</th>\n",
              "      <th>HHInsurance</th>\n",
              "      <th>CarLoan</th>\n",
              "      <th>LastContactDay</th>\n",
              "      <th>LastContactMonth</th>\n",
              "      <th>NoOfContacts</th>\n",
              "      <th>DaysPassed</th>\n",
              "      <th>PrevAttempts</th>\n",
              "      <th>Outcome</th>\n",
              "      <th>CarInsurance</th>\n",
              "      <th>Call_Duration</th>\n",
              "    </tr>\n",
              "  </thead>\n",
              "  <tbody>\n",
              "    <tr>\n",
              "      <th>0</th>\n",
              "      <td>32</td>\n",
              "      <td>management</td>\n",
              "      <td>single</td>\n",
              "      <td>tertiary</td>\n",
              "      <td>1218.0</td>\n",
              "      <td>1</td>\n",
              "      <td>0</td>\n",
              "      <td>28</td>\n",
              "      <td>jan</td>\n",
              "      <td>2</td>\n",
              "      <td>-1</td>\n",
              "      <td>0</td>\n",
              "      <td>NoPrev</td>\n",
              "      <td>0</td>\n",
              "      <td>1</td>\n",
              "    </tr>\n",
              "    <tr>\n",
              "      <th>1</th>\n",
              "      <td>32</td>\n",
              "      <td>blue-collar</td>\n",
              "      <td>married</td>\n",
              "      <td>primary</td>\n",
              "      <td>1156.0</td>\n",
              "      <td>1</td>\n",
              "      <td>0</td>\n",
              "      <td>26</td>\n",
              "      <td>may</td>\n",
              "      <td>5</td>\n",
              "      <td>-1</td>\n",
              "      <td>0</td>\n",
              "      <td>NoPrev</td>\n",
              "      <td>0</td>\n",
              "      <td>3</td>\n",
              "    </tr>\n",
              "    <tr>\n",
              "      <th>2</th>\n",
              "      <td>29</td>\n",
              "      <td>management</td>\n",
              "      <td>single</td>\n",
              "      <td>tertiary</td>\n",
              "      <td>637.0</td>\n",
              "      <td>1</td>\n",
              "      <td>0</td>\n",
              "      <td>3</td>\n",
              "      <td>jun</td>\n",
              "      <td>1</td>\n",
              "      <td>119</td>\n",
              "      <td>1</td>\n",
              "      <td>failure</td>\n",
              "      <td>1</td>\n",
              "      <td>6</td>\n",
              "    </tr>\n",
              "    <tr>\n",
              "      <th>3</th>\n",
              "      <td>25</td>\n",
              "      <td>student</td>\n",
              "      <td>single</td>\n",
              "      <td>primary</td>\n",
              "      <td>373.0</td>\n",
              "      <td>1</td>\n",
              "      <td>0</td>\n",
              "      <td>11</td>\n",
              "      <td>may</td>\n",
              "      <td>2</td>\n",
              "      <td>-1</td>\n",
              "      <td>0</td>\n",
              "      <td>NoPrev</td>\n",
              "      <td>1</td>\n",
              "      <td>14</td>\n",
              "    </tr>\n",
              "    <tr>\n",
              "      <th>4</th>\n",
              "      <td>30</td>\n",
              "      <td>management</td>\n",
              "      <td>married</td>\n",
              "      <td>tertiary</td>\n",
              "      <td>2694.0</td>\n",
              "      <td>0</td>\n",
              "      <td>0</td>\n",
              "      <td>3</td>\n",
              "      <td>jun</td>\n",
              "      <td>1</td>\n",
              "      <td>-1</td>\n",
              "      <td>0</td>\n",
              "      <td>NoPrev</td>\n",
              "      <td>0</td>\n",
              "      <td>3</td>\n",
              "    </tr>\n",
              "  </tbody>\n",
              "</table>\n",
              "</div>"
            ],
            "text/plain": [
              "   Age          Job  Marital  ...  Outcome  CarInsurance  Call_Duration\n",
              "0   32   management   single  ...   NoPrev             0              1\n",
              "1   32  blue-collar  married  ...   NoPrev             0              3\n",
              "2   29   management   single  ...  failure             1              6\n",
              "3   25      student   single  ...   NoPrev             1             14\n",
              "4   30   management  married  ...   NoPrev             0              3\n",
              "\n",
              "[5 rows x 15 columns]"
            ]
          },
          "metadata": {
            "tags": []
          },
          "execution_count": 52
        }
      ]
    },
    {
      "cell_type": "markdown",
      "metadata": {
        "id": "mUhFXtmELgno"
      },
      "source": [
        "Now let's apply the one hot encoding to all the categorical columns."
      ]
    },
    {
      "cell_type": "code",
      "metadata": {
        "id": "k-Ai9QQOLk3i"
      },
      "source": [
        "df_fin_tr= pd.get_dummies(df_tr, drop_first=True)"
      ],
      "execution_count": 53,
      "outputs": []
    },
    {
      "cell_type": "code",
      "metadata": {
        "id": "dy6gJBHHL_DY",
        "colab": {
          "base_uri": "https://localhost:8080/",
          "height": 241
        },
        "outputId": "448436af-4f10-41f2-eeb1-12b955dd33ca"
      },
      "source": [
        "df_fin_tr.head()"
      ],
      "execution_count": 54,
      "outputs": [
        {
          "output_type": "execute_result",
          "data": {
            "text/html": [
              "<div>\n",
              "<style scoped>\n",
              "    .dataframe tbody tr th:only-of-type {\n",
              "        vertical-align: middle;\n",
              "    }\n",
              "\n",
              "    .dataframe tbody tr th {\n",
              "        vertical-align: top;\n",
              "    }\n",
              "\n",
              "    .dataframe thead th {\n",
              "        text-align: right;\n",
              "    }\n",
              "</style>\n",
              "<table border=\"1\" class=\"dataframe\">\n",
              "  <thead>\n",
              "    <tr style=\"text-align: right;\">\n",
              "      <th></th>\n",
              "      <th>Age</th>\n",
              "      <th>Balance</th>\n",
              "      <th>HHInsurance</th>\n",
              "      <th>CarLoan</th>\n",
              "      <th>LastContactDay</th>\n",
              "      <th>NoOfContacts</th>\n",
              "      <th>DaysPassed</th>\n",
              "      <th>PrevAttempts</th>\n",
              "      <th>CarInsurance</th>\n",
              "      <th>Call_Duration</th>\n",
              "      <th>Job_admin.</th>\n",
              "      <th>Job_blue-collar</th>\n",
              "      <th>Job_entrepreneur</th>\n",
              "      <th>Job_housemaid</th>\n",
              "      <th>Job_management</th>\n",
              "      <th>Job_retired</th>\n",
              "      <th>Job_self-employed</th>\n",
              "      <th>Job_services</th>\n",
              "      <th>Job_student</th>\n",
              "      <th>Job_technician</th>\n",
              "      <th>Job_unemployed</th>\n",
              "      <th>Marital_married</th>\n",
              "      <th>Marital_single</th>\n",
              "      <th>Education_secondary</th>\n",
              "      <th>Education_tertiary</th>\n",
              "      <th>LastContactMonth_aug</th>\n",
              "      <th>LastContactMonth_dec</th>\n",
              "      <th>LastContactMonth_feb</th>\n",
              "      <th>LastContactMonth_jan</th>\n",
              "      <th>LastContactMonth_jul</th>\n",
              "      <th>LastContactMonth_jun</th>\n",
              "      <th>LastContactMonth_mar</th>\n",
              "      <th>LastContactMonth_may</th>\n",
              "      <th>LastContactMonth_nov</th>\n",
              "      <th>LastContactMonth_oct</th>\n",
              "      <th>LastContactMonth_sep</th>\n",
              "      <th>Outcome_failure</th>\n",
              "      <th>Outcome_other</th>\n",
              "      <th>Outcome_success</th>\n",
              "    </tr>\n",
              "  </thead>\n",
              "  <tbody>\n",
              "    <tr>\n",
              "      <th>0</th>\n",
              "      <td>32</td>\n",
              "      <td>1218.0</td>\n",
              "      <td>1</td>\n",
              "      <td>0</td>\n",
              "      <td>28</td>\n",
              "      <td>2</td>\n",
              "      <td>-1</td>\n",
              "      <td>0</td>\n",
              "      <td>0</td>\n",
              "      <td>1</td>\n",
              "      <td>0</td>\n",
              "      <td>0</td>\n",
              "      <td>0</td>\n",
              "      <td>0</td>\n",
              "      <td>1</td>\n",
              "      <td>0</td>\n",
              "      <td>0</td>\n",
              "      <td>0</td>\n",
              "      <td>0</td>\n",
              "      <td>0</td>\n",
              "      <td>0</td>\n",
              "      <td>0</td>\n",
              "      <td>1</td>\n",
              "      <td>0</td>\n",
              "      <td>1</td>\n",
              "      <td>0</td>\n",
              "      <td>0</td>\n",
              "      <td>0</td>\n",
              "      <td>1</td>\n",
              "      <td>0</td>\n",
              "      <td>0</td>\n",
              "      <td>0</td>\n",
              "      <td>0</td>\n",
              "      <td>0</td>\n",
              "      <td>0</td>\n",
              "      <td>0</td>\n",
              "      <td>0</td>\n",
              "      <td>0</td>\n",
              "      <td>0</td>\n",
              "    </tr>\n",
              "    <tr>\n",
              "      <th>1</th>\n",
              "      <td>32</td>\n",
              "      <td>1156.0</td>\n",
              "      <td>1</td>\n",
              "      <td>0</td>\n",
              "      <td>26</td>\n",
              "      <td>5</td>\n",
              "      <td>-1</td>\n",
              "      <td>0</td>\n",
              "      <td>0</td>\n",
              "      <td>3</td>\n",
              "      <td>0</td>\n",
              "      <td>1</td>\n",
              "      <td>0</td>\n",
              "      <td>0</td>\n",
              "      <td>0</td>\n",
              "      <td>0</td>\n",
              "      <td>0</td>\n",
              "      <td>0</td>\n",
              "      <td>0</td>\n",
              "      <td>0</td>\n",
              "      <td>0</td>\n",
              "      <td>1</td>\n",
              "      <td>0</td>\n",
              "      <td>0</td>\n",
              "      <td>0</td>\n",
              "      <td>0</td>\n",
              "      <td>0</td>\n",
              "      <td>0</td>\n",
              "      <td>0</td>\n",
              "      <td>0</td>\n",
              "      <td>0</td>\n",
              "      <td>0</td>\n",
              "      <td>1</td>\n",
              "      <td>0</td>\n",
              "      <td>0</td>\n",
              "      <td>0</td>\n",
              "      <td>0</td>\n",
              "      <td>0</td>\n",
              "      <td>0</td>\n",
              "    </tr>\n",
              "    <tr>\n",
              "      <th>2</th>\n",
              "      <td>29</td>\n",
              "      <td>637.0</td>\n",
              "      <td>1</td>\n",
              "      <td>0</td>\n",
              "      <td>3</td>\n",
              "      <td>1</td>\n",
              "      <td>119</td>\n",
              "      <td>1</td>\n",
              "      <td>1</td>\n",
              "      <td>6</td>\n",
              "      <td>0</td>\n",
              "      <td>0</td>\n",
              "      <td>0</td>\n",
              "      <td>0</td>\n",
              "      <td>1</td>\n",
              "      <td>0</td>\n",
              "      <td>0</td>\n",
              "      <td>0</td>\n",
              "      <td>0</td>\n",
              "      <td>0</td>\n",
              "      <td>0</td>\n",
              "      <td>0</td>\n",
              "      <td>1</td>\n",
              "      <td>0</td>\n",
              "      <td>1</td>\n",
              "      <td>0</td>\n",
              "      <td>0</td>\n",
              "      <td>0</td>\n",
              "      <td>0</td>\n",
              "      <td>0</td>\n",
              "      <td>1</td>\n",
              "      <td>0</td>\n",
              "      <td>0</td>\n",
              "      <td>0</td>\n",
              "      <td>0</td>\n",
              "      <td>0</td>\n",
              "      <td>1</td>\n",
              "      <td>0</td>\n",
              "      <td>0</td>\n",
              "    </tr>\n",
              "    <tr>\n",
              "      <th>3</th>\n",
              "      <td>25</td>\n",
              "      <td>373.0</td>\n",
              "      <td>1</td>\n",
              "      <td>0</td>\n",
              "      <td>11</td>\n",
              "      <td>2</td>\n",
              "      <td>-1</td>\n",
              "      <td>0</td>\n",
              "      <td>1</td>\n",
              "      <td>14</td>\n",
              "      <td>0</td>\n",
              "      <td>0</td>\n",
              "      <td>0</td>\n",
              "      <td>0</td>\n",
              "      <td>0</td>\n",
              "      <td>0</td>\n",
              "      <td>0</td>\n",
              "      <td>0</td>\n",
              "      <td>1</td>\n",
              "      <td>0</td>\n",
              "      <td>0</td>\n",
              "      <td>0</td>\n",
              "      <td>1</td>\n",
              "      <td>0</td>\n",
              "      <td>0</td>\n",
              "      <td>0</td>\n",
              "      <td>0</td>\n",
              "      <td>0</td>\n",
              "      <td>0</td>\n",
              "      <td>0</td>\n",
              "      <td>0</td>\n",
              "      <td>0</td>\n",
              "      <td>1</td>\n",
              "      <td>0</td>\n",
              "      <td>0</td>\n",
              "      <td>0</td>\n",
              "      <td>0</td>\n",
              "      <td>0</td>\n",
              "      <td>0</td>\n",
              "    </tr>\n",
              "    <tr>\n",
              "      <th>4</th>\n",
              "      <td>30</td>\n",
              "      <td>2694.0</td>\n",
              "      <td>0</td>\n",
              "      <td>0</td>\n",
              "      <td>3</td>\n",
              "      <td>1</td>\n",
              "      <td>-1</td>\n",
              "      <td>0</td>\n",
              "      <td>0</td>\n",
              "      <td>3</td>\n",
              "      <td>0</td>\n",
              "      <td>0</td>\n",
              "      <td>0</td>\n",
              "      <td>0</td>\n",
              "      <td>1</td>\n",
              "      <td>0</td>\n",
              "      <td>0</td>\n",
              "      <td>0</td>\n",
              "      <td>0</td>\n",
              "      <td>0</td>\n",
              "      <td>0</td>\n",
              "      <td>1</td>\n",
              "      <td>0</td>\n",
              "      <td>0</td>\n",
              "      <td>1</td>\n",
              "      <td>0</td>\n",
              "      <td>0</td>\n",
              "      <td>0</td>\n",
              "      <td>0</td>\n",
              "      <td>0</td>\n",
              "      <td>1</td>\n",
              "      <td>0</td>\n",
              "      <td>0</td>\n",
              "      <td>0</td>\n",
              "      <td>0</td>\n",
              "      <td>0</td>\n",
              "      <td>0</td>\n",
              "      <td>0</td>\n",
              "      <td>0</td>\n",
              "    </tr>\n",
              "  </tbody>\n",
              "</table>\n",
              "</div>"
            ],
            "text/plain": [
              "   Age  Balance  HHInsurance  ...  Outcome_failure  Outcome_other  Outcome_success\n",
              "0   32   1218.0            1  ...                0              0                0\n",
              "1   32   1156.0            1  ...                0              0                0\n",
              "2   29    637.0            1  ...                1              0                0\n",
              "3   25    373.0            1  ...                0              0                0\n",
              "4   30   2694.0            0  ...                0              0                0\n",
              "\n",
              "[5 rows x 39 columns]"
            ]
          },
          "metadata": {
            "tags": []
          },
          "execution_count": 54
        }
      ]
    },
    {
      "cell_type": "markdown",
      "metadata": {
        "id": "GybOxwSU5yUX"
      },
      "source": [
        "Now our data is ready to perform the model. <br>\n",
        "Let's split the data now "
      ]
    },
    {
      "cell_type": "code",
      "metadata": {
        "id": "3lha4oyyQaFz"
      },
      "source": [
        "from sklearn.model_selection import train_test_split"
      ],
      "execution_count": 55,
      "outputs": []
    },
    {
      "cell_type": "code",
      "metadata": {
        "id": "LzbdzjavYQk_"
      },
      "source": [
        "X = df_fin_tr.drop(columns=df_fin_tr[['CarInsurance']], axis =1 )"
      ],
      "execution_count": 56,
      "outputs": []
    },
    {
      "cell_type": "code",
      "metadata": {
        "id": "I21gOXNtYpfr",
        "colab": {
          "base_uri": "https://localhost:8080/",
          "height": 241
        },
        "outputId": "4ab2b61a-97ba-4c5d-b351-11af2fc1fe42"
      },
      "source": [
        "X.head()"
      ],
      "execution_count": 57,
      "outputs": [
        {
          "output_type": "execute_result",
          "data": {
            "text/html": [
              "<div>\n",
              "<style scoped>\n",
              "    .dataframe tbody tr th:only-of-type {\n",
              "        vertical-align: middle;\n",
              "    }\n",
              "\n",
              "    .dataframe tbody tr th {\n",
              "        vertical-align: top;\n",
              "    }\n",
              "\n",
              "    .dataframe thead th {\n",
              "        text-align: right;\n",
              "    }\n",
              "</style>\n",
              "<table border=\"1\" class=\"dataframe\">\n",
              "  <thead>\n",
              "    <tr style=\"text-align: right;\">\n",
              "      <th></th>\n",
              "      <th>Age</th>\n",
              "      <th>Balance</th>\n",
              "      <th>HHInsurance</th>\n",
              "      <th>CarLoan</th>\n",
              "      <th>LastContactDay</th>\n",
              "      <th>NoOfContacts</th>\n",
              "      <th>DaysPassed</th>\n",
              "      <th>PrevAttempts</th>\n",
              "      <th>Call_Duration</th>\n",
              "      <th>Job_admin.</th>\n",
              "      <th>Job_blue-collar</th>\n",
              "      <th>Job_entrepreneur</th>\n",
              "      <th>Job_housemaid</th>\n",
              "      <th>Job_management</th>\n",
              "      <th>Job_retired</th>\n",
              "      <th>Job_self-employed</th>\n",
              "      <th>Job_services</th>\n",
              "      <th>Job_student</th>\n",
              "      <th>Job_technician</th>\n",
              "      <th>Job_unemployed</th>\n",
              "      <th>Marital_married</th>\n",
              "      <th>Marital_single</th>\n",
              "      <th>Education_secondary</th>\n",
              "      <th>Education_tertiary</th>\n",
              "      <th>LastContactMonth_aug</th>\n",
              "      <th>LastContactMonth_dec</th>\n",
              "      <th>LastContactMonth_feb</th>\n",
              "      <th>LastContactMonth_jan</th>\n",
              "      <th>LastContactMonth_jul</th>\n",
              "      <th>LastContactMonth_jun</th>\n",
              "      <th>LastContactMonth_mar</th>\n",
              "      <th>LastContactMonth_may</th>\n",
              "      <th>LastContactMonth_nov</th>\n",
              "      <th>LastContactMonth_oct</th>\n",
              "      <th>LastContactMonth_sep</th>\n",
              "      <th>Outcome_failure</th>\n",
              "      <th>Outcome_other</th>\n",
              "      <th>Outcome_success</th>\n",
              "    </tr>\n",
              "  </thead>\n",
              "  <tbody>\n",
              "    <tr>\n",
              "      <th>0</th>\n",
              "      <td>32</td>\n",
              "      <td>1218.0</td>\n",
              "      <td>1</td>\n",
              "      <td>0</td>\n",
              "      <td>28</td>\n",
              "      <td>2</td>\n",
              "      <td>-1</td>\n",
              "      <td>0</td>\n",
              "      <td>1</td>\n",
              "      <td>0</td>\n",
              "      <td>0</td>\n",
              "      <td>0</td>\n",
              "      <td>0</td>\n",
              "      <td>1</td>\n",
              "      <td>0</td>\n",
              "      <td>0</td>\n",
              "      <td>0</td>\n",
              "      <td>0</td>\n",
              "      <td>0</td>\n",
              "      <td>0</td>\n",
              "      <td>0</td>\n",
              "      <td>1</td>\n",
              "      <td>0</td>\n",
              "      <td>1</td>\n",
              "      <td>0</td>\n",
              "      <td>0</td>\n",
              "      <td>0</td>\n",
              "      <td>1</td>\n",
              "      <td>0</td>\n",
              "      <td>0</td>\n",
              "      <td>0</td>\n",
              "      <td>0</td>\n",
              "      <td>0</td>\n",
              "      <td>0</td>\n",
              "      <td>0</td>\n",
              "      <td>0</td>\n",
              "      <td>0</td>\n",
              "      <td>0</td>\n",
              "    </tr>\n",
              "    <tr>\n",
              "      <th>1</th>\n",
              "      <td>32</td>\n",
              "      <td>1156.0</td>\n",
              "      <td>1</td>\n",
              "      <td>0</td>\n",
              "      <td>26</td>\n",
              "      <td>5</td>\n",
              "      <td>-1</td>\n",
              "      <td>0</td>\n",
              "      <td>3</td>\n",
              "      <td>0</td>\n",
              "      <td>1</td>\n",
              "      <td>0</td>\n",
              "      <td>0</td>\n",
              "      <td>0</td>\n",
              "      <td>0</td>\n",
              "      <td>0</td>\n",
              "      <td>0</td>\n",
              "      <td>0</td>\n",
              "      <td>0</td>\n",
              "      <td>0</td>\n",
              "      <td>1</td>\n",
              "      <td>0</td>\n",
              "      <td>0</td>\n",
              "      <td>0</td>\n",
              "      <td>0</td>\n",
              "      <td>0</td>\n",
              "      <td>0</td>\n",
              "      <td>0</td>\n",
              "      <td>0</td>\n",
              "      <td>0</td>\n",
              "      <td>0</td>\n",
              "      <td>1</td>\n",
              "      <td>0</td>\n",
              "      <td>0</td>\n",
              "      <td>0</td>\n",
              "      <td>0</td>\n",
              "      <td>0</td>\n",
              "      <td>0</td>\n",
              "    </tr>\n",
              "    <tr>\n",
              "      <th>2</th>\n",
              "      <td>29</td>\n",
              "      <td>637.0</td>\n",
              "      <td>1</td>\n",
              "      <td>0</td>\n",
              "      <td>3</td>\n",
              "      <td>1</td>\n",
              "      <td>119</td>\n",
              "      <td>1</td>\n",
              "      <td>6</td>\n",
              "      <td>0</td>\n",
              "      <td>0</td>\n",
              "      <td>0</td>\n",
              "      <td>0</td>\n",
              "      <td>1</td>\n",
              "      <td>0</td>\n",
              "      <td>0</td>\n",
              "      <td>0</td>\n",
              "      <td>0</td>\n",
              "      <td>0</td>\n",
              "      <td>0</td>\n",
              "      <td>0</td>\n",
              "      <td>1</td>\n",
              "      <td>0</td>\n",
              "      <td>1</td>\n",
              "      <td>0</td>\n",
              "      <td>0</td>\n",
              "      <td>0</td>\n",
              "      <td>0</td>\n",
              "      <td>0</td>\n",
              "      <td>1</td>\n",
              "      <td>0</td>\n",
              "      <td>0</td>\n",
              "      <td>0</td>\n",
              "      <td>0</td>\n",
              "      <td>0</td>\n",
              "      <td>1</td>\n",
              "      <td>0</td>\n",
              "      <td>0</td>\n",
              "    </tr>\n",
              "    <tr>\n",
              "      <th>3</th>\n",
              "      <td>25</td>\n",
              "      <td>373.0</td>\n",
              "      <td>1</td>\n",
              "      <td>0</td>\n",
              "      <td>11</td>\n",
              "      <td>2</td>\n",
              "      <td>-1</td>\n",
              "      <td>0</td>\n",
              "      <td>14</td>\n",
              "      <td>0</td>\n",
              "      <td>0</td>\n",
              "      <td>0</td>\n",
              "      <td>0</td>\n",
              "      <td>0</td>\n",
              "      <td>0</td>\n",
              "      <td>0</td>\n",
              "      <td>0</td>\n",
              "      <td>1</td>\n",
              "      <td>0</td>\n",
              "      <td>0</td>\n",
              "      <td>0</td>\n",
              "      <td>1</td>\n",
              "      <td>0</td>\n",
              "      <td>0</td>\n",
              "      <td>0</td>\n",
              "      <td>0</td>\n",
              "      <td>0</td>\n",
              "      <td>0</td>\n",
              "      <td>0</td>\n",
              "      <td>0</td>\n",
              "      <td>0</td>\n",
              "      <td>1</td>\n",
              "      <td>0</td>\n",
              "      <td>0</td>\n",
              "      <td>0</td>\n",
              "      <td>0</td>\n",
              "      <td>0</td>\n",
              "      <td>0</td>\n",
              "    </tr>\n",
              "    <tr>\n",
              "      <th>4</th>\n",
              "      <td>30</td>\n",
              "      <td>2694.0</td>\n",
              "      <td>0</td>\n",
              "      <td>0</td>\n",
              "      <td>3</td>\n",
              "      <td>1</td>\n",
              "      <td>-1</td>\n",
              "      <td>0</td>\n",
              "      <td>3</td>\n",
              "      <td>0</td>\n",
              "      <td>0</td>\n",
              "      <td>0</td>\n",
              "      <td>0</td>\n",
              "      <td>1</td>\n",
              "      <td>0</td>\n",
              "      <td>0</td>\n",
              "      <td>0</td>\n",
              "      <td>0</td>\n",
              "      <td>0</td>\n",
              "      <td>0</td>\n",
              "      <td>1</td>\n",
              "      <td>0</td>\n",
              "      <td>0</td>\n",
              "      <td>1</td>\n",
              "      <td>0</td>\n",
              "      <td>0</td>\n",
              "      <td>0</td>\n",
              "      <td>0</td>\n",
              "      <td>0</td>\n",
              "      <td>1</td>\n",
              "      <td>0</td>\n",
              "      <td>0</td>\n",
              "      <td>0</td>\n",
              "      <td>0</td>\n",
              "      <td>0</td>\n",
              "      <td>0</td>\n",
              "      <td>0</td>\n",
              "      <td>0</td>\n",
              "    </tr>\n",
              "  </tbody>\n",
              "</table>\n",
              "</div>"
            ],
            "text/plain": [
              "   Age  Balance  HHInsurance  ...  Outcome_failure  Outcome_other  Outcome_success\n",
              "0   32   1218.0            1  ...                0              0                0\n",
              "1   32   1156.0            1  ...                0              0                0\n",
              "2   29    637.0            1  ...                1              0                0\n",
              "3   25    373.0            1  ...                0              0                0\n",
              "4   30   2694.0            0  ...                0              0                0\n",
              "\n",
              "[5 rows x 38 columns]"
            ]
          },
          "metadata": {
            "tags": []
          },
          "execution_count": 57
        }
      ]
    },
    {
      "cell_type": "code",
      "metadata": {
        "id": "pR0RWvlOYvaT"
      },
      "source": [
        "y = df_fin_tr['CarInsurance']"
      ],
      "execution_count": 58,
      "outputs": []
    },
    {
      "cell_type": "code",
      "metadata": {
        "colab": {
          "base_uri": "https://localhost:8080/"
        },
        "id": "dmCjpsk21msy",
        "outputId": "608ff07f-6a38-4553-c0d3-6ac1bc8cb741"
      },
      "source": [
        "df_fin_tr.shape"
      ],
      "execution_count": 59,
      "outputs": [
        {
          "output_type": "execute_result",
          "data": {
            "text/plain": [
              "(4000, 39)"
            ]
          },
          "metadata": {
            "tags": []
          },
          "execution_count": 59
        }
      ]
    },
    {
      "cell_type": "code",
      "metadata": {
        "id": "2KmSnO9nW1T7",
        "colab": {
          "base_uri": "https://localhost:8080/"
        },
        "outputId": "8ad4841c-3a0e-429b-9627-49907e3c0ded"
      },
      "source": [
        "y.head()"
      ],
      "execution_count": 60,
      "outputs": [
        {
          "output_type": "execute_result",
          "data": {
            "text/plain": [
              "0    0\n",
              "1    0\n",
              "2    1\n",
              "3    1\n",
              "4    0\n",
              "Name: CarInsurance, dtype: int64"
            ]
          },
          "metadata": {
            "tags": []
          },
          "execution_count": 60
        }
      ]
    },
    {
      "cell_type": "code",
      "metadata": {
        "id": "AqcM1UzDWmn9"
      },
      "source": [
        "X_train, X_test, y_train, y_test = train_test_split(X, y, train_size=0.7 , random_state=0)"
      ],
      "execution_count": 61,
      "outputs": []
    },
    {
      "cell_type": "code",
      "metadata": {
        "id": "wjva0DKqZQKl",
        "colab": {
          "base_uri": "https://localhost:8080/"
        },
        "outputId": "1b9f6305-a738-4179-b7bb-8b04b41c7100"
      },
      "source": [
        "print('Train shape - ', X_train.shape)\n",
        "print('Test shape  - ', X_test.shape)"
      ],
      "execution_count": 62,
      "outputs": [
        {
          "output_type": "stream",
          "text": [
            "Train shape -  (2800, 38)\n",
            "Test shape  -  (1200, 38)\n"
          ],
          "name": "stdout"
        }
      ]
    },
    {
      "cell_type": "markdown",
      "metadata": {
        "id": "JdyR5d6vYd9q"
      },
      "source": [
        "Finally!!! Let's build the model now. "
      ]
    },
    {
      "cell_type": "markdown",
      "metadata": {
        "id": "PRV_bvZxYjvI"
      },
      "source": [
        "Define model parameters to tune:"
      ]
    },
    {
      "cell_type": "markdown",
      "metadata": {
        "id": "wkw4BabMZrG5"
      },
      "source": [
        "If the Lambda = 0, it is plain logistic regression , no regularisation. <br>\n",
        "c=1/0 which is very big value. <br>\n",
        "Lambda = very big number (Heavy Regularisation),weights will die, <br>\n",
        " Bigger the C, smallest the lambda, and vice versa.<br>\n",
        " Here we are using L2 or Ridge penalty."
      ]
    },
    {
      "cell_type": "code",
      "metadata": {
        "id": "q_ZEpYqralQy"
      },
      "source": [
        "model_parameters = { 'penalty':['l2'], #which penalty we want to give the model, L1 or L2, here we are giving L1 penalty means Lasso\n",
        "                    'C':[1,10,100,1000], #Lambda strength, and it is inverse of the lambda. Value of C is decided by ourselves.\n",
        "                    'class_weight': ['balanced',None]} #It balances the data, for target variable if not balanced. \n",
        "                    "
      ],
      "execution_count": 63,
      "outputs": []
    },
    {
      "cell_type": "markdown",
      "metadata": {
        "id": "fPVCIet5b2wL"
      },
      "source": [
        "We have set the parameters for the model.\n",
        "However we want to know the best parameter for our model. so we will find them through GridSearchCV.\n"
      ]
    },
    {
      "cell_type": "code",
      "metadata": {
        "id": "pmcLEuOAcyPH"
      },
      "source": [
        "\n",
        "from sklearn.linear_model import LogisticRegression\n",
        "from sklearn.model_selection import train_test_split, cross_val_score, GridSearchCV\n",
        "from sklearn.metrics import f1_score, roc_auc_score, recall_score, precision_score, make_scorer, accuracy_score, roc_curve, confusion_matrix, classification_report"
      ],
      "execution_count": 64,
      "outputs": []
    },
    {
      "cell_type": "code",
      "metadata": {
        "id": "emd2w7lHeuW_"
      },
      "source": [
        "import joblib"
      ],
      "execution_count": 65,
      "outputs": []
    },
    {
      "cell_type": "markdown",
      "metadata": {
        "id": "OFjxer2xcBj-"
      },
      "source": [
        "Imported the libraries."
      ]
    },
    {
      "cell_type": "code",
      "metadata": {
        "id": "dK45GcRlcHll"
      },
      "source": [
        ""
      ],
      "execution_count": 65,
      "outputs": []
    },
    {
      "cell_type": "code",
      "metadata": {
        "id": "dbO3TNNrcEoe"
      },
      "source": [
        "model = LogisticRegression(random_state=1, solver='liblinear')"
      ],
      "execution_count": 66,
      "outputs": []
    },
    {
      "cell_type": "code",
      "metadata": {
        "colab": {
          "base_uri": "https://localhost:8080/"
        },
        "id": "_LtqDf26cb0m",
        "outputId": "de4c8aa6-0c90-4e40-fa7b-6cdc32f59319"
      },
      "source": [
        "gscv = GridSearchCV(estimator=model,\n",
        "                    param_grid=model_parameters,\n",
        "                    cv=5,                          #for 5 set of cross validation \n",
        "                    verbose=1,                       #just for printing\n",
        "                    n_jobs=-1,                       #just for the speed, fastest possible, not related to ML\n",
        "                    scoring='f1')\n",
        "gscv.fit(X_train,y_train)"
      ],
      "execution_count": 67,
      "outputs": [
        {
          "output_type": "stream",
          "text": [
            "Fitting 5 folds for each of 8 candidates, totalling 40 fits\n"
          ],
          "name": "stdout"
        },
        {
          "output_type": "stream",
          "text": [
            "[Parallel(n_jobs=-1)]: Using backend LokyBackend with 2 concurrent workers.\n",
            "[Parallel(n_jobs=-1)]: Done  40 out of  40 | elapsed:    2.7s finished\n"
          ],
          "name": "stderr"
        },
        {
          "output_type": "execute_result",
          "data": {
            "text/plain": [
              "GridSearchCV(cv=5, error_score=nan,\n",
              "             estimator=LogisticRegression(C=1.0, class_weight=None, dual=False,\n",
              "                                          fit_intercept=True,\n",
              "                                          intercept_scaling=1, l1_ratio=None,\n",
              "                                          max_iter=100, multi_class='auto',\n",
              "                                          n_jobs=None, penalty='l2',\n",
              "                                          random_state=1, solver='liblinear',\n",
              "                                          tol=0.0001, verbose=0,\n",
              "                                          warm_start=False),\n",
              "             iid='deprecated', n_jobs=-1,\n",
              "             param_grid={'C': [1, 10, 100, 1000],\n",
              "                         'class_weight': ['balanced', None],\n",
              "                         'penalty': ['l2']},\n",
              "             pre_dispatch='2*n_jobs', refit=True, return_train_score=False,\n",
              "             scoring='f1', verbose=1)"
            ]
          },
          "metadata": {
            "tags": []
          },
          "execution_count": 67
        }
      ]
    },
    {
      "cell_type": "code",
      "metadata": {
        "colab": {
          "base_uri": "https://localhost:8080/"
        },
        "id": "Gfmfqfoney4r",
        "outputId": "2fd61218-1e5f-4727-987c-6aadaf22e425"
      },
      "source": [
        "print('The best parameter are -', gscv.best_params_)"
      ],
      "execution_count": 68,
      "outputs": [
        {
          "output_type": "stream",
          "text": [
            "The best parameter are - {'C': 1, 'class_weight': 'balanced', 'penalty': 'l2'}\n"
          ],
          "name": "stdout"
        }
      ]
    },
    {
      "cell_type": "code",
      "metadata": {
        "colab": {
          "base_uri": "https://localhost:8080/"
        },
        "id": "RGau1GMsghkp",
        "outputId": "2f54f96e-d26c-43cf-bcd0-92d5cc5623f8"
      },
      "source": [
        "print(gscv.best_score_)\n",
        "print(gscv.best_estimator_)\n",
        "print(gscv.scorer_)"
      ],
      "execution_count": 69,
      "outputs": [
        {
          "output_type": "stream",
          "text": [
            "0.7771176452470098\n",
            "LogisticRegression(C=1, class_weight='balanced', dual=False, fit_intercept=True,\n",
            "                   intercept_scaling=1, l1_ratio=None, max_iter=100,\n",
            "                   multi_class='auto', n_jobs=None, penalty='l2',\n",
            "                   random_state=1, solver='liblinear', tol=0.0001, verbose=0,\n",
            "                   warm_start=False)\n",
            "make_scorer(f1_score, average=binary)\n"
          ],
          "name": "stdout"
        }
      ]
    },
    {
      "cell_type": "markdown",
      "metadata": {
        "id": "Sy3EFXbQcXG0"
      },
      "source": [
        "We have the best parameters.\n",
        "C as 1 , data should be balanced, penalty will be l2."
      ]
    },
    {
      "cell_type": "code",
      "metadata": {
        "colab": {
          "base_uri": "https://localhost:8080/"
        },
        "id": "2MwPH5DxicLX",
        "outputId": "2b4cf184-0db4-46db-9cb2-39660f7f39d5"
      },
      "source": [
        "final_model = LogisticRegression(**gscv.best_params_,random_state=1,solver='liblinear')\n",
        "final_model.fit(X_train, y_train)"
      ],
      "execution_count": 70,
      "outputs": [
        {
          "output_type": "execute_result",
          "data": {
            "text/plain": [
              "LogisticRegression(C=1, class_weight='balanced', dual=False, fit_intercept=True,\n",
              "                   intercept_scaling=1, l1_ratio=None, max_iter=100,\n",
              "                   multi_class='auto', n_jobs=None, penalty='l2',\n",
              "                   random_state=1, solver='liblinear', tol=0.0001, verbose=0,\n",
              "                   warm_start=False)"
            ]
          },
          "metadata": {
            "tags": []
          },
          "execution_count": 70
        }
      ]
    },
    {
      "cell_type": "code",
      "metadata": {
        "colab": {
          "base_uri": "https://localhost:8080/"
        },
        "id": "9RCsVxNZkCzQ",
        "outputId": "a1ca6918-d047-4bc9-8d55-6c8b96876f9a"
      },
      "source": [
        "print('Auc on test by final_model:', roc_auc_score(y_true=y_test, y_score=final_model.predict_log_proba(X_test)[:,1]))"
      ],
      "execution_count": 71,
      "outputs": [
        {
          "output_type": "stream",
          "text": [
            "Auc on test by final_model: 0.8968761414983362\n"
          ],
          "name": "stdout"
        }
      ]
    },
    {
      "cell_type": "code",
      "metadata": {
        "colab": {
          "base_uri": "https://localhost:8080/"
        },
        "id": "fpxPmWJ3kwao",
        "outputId": "43be7e53-f8d5-4d04-acf7-61cb54d36d92"
      },
      "source": [
        "print('f1 score on test by final_model:', f1_score(y_true=y_test, y_pred=final_model.predict(X_test)))"
      ],
      "execution_count": 72,
      "outputs": [
        {
          "output_type": "stream",
          "text": [
            "f1 score on test by final_model: 0.7652859960552268\n"
          ],
          "name": "stdout"
        }
      ]
    },
    {
      "cell_type": "code",
      "metadata": {
        "colab": {
          "base_uri": "https://localhost:8080/"
        },
        "id": "Qa09aW3pl6m9",
        "outputId": "8ffacb29-4227-40ac-9107-5f77ca42a7ac"
      },
      "source": [
        "print('Auc on test by gscv:', roc_auc_score(y_true=y_test, y_score=gscv.predict_log_proba(X_test)[:,1]))"
      ],
      "execution_count": 73,
      "outputs": [
        {
          "output_type": "stream",
          "text": [
            "Auc on test by gscv: 0.8968761414983362\n"
          ],
          "name": "stdout"
        }
      ]
    },
    {
      "cell_type": "code",
      "metadata": {
        "colab": {
          "base_uri": "https://localhost:8080/"
        },
        "id": "MceB0LBcmsCg",
        "outputId": "0937f925-7517-48d4-f81c-d9a549887f61"
      },
      "source": [
        "list(zip(X_train.columns, final_model.coef_[0]))"
      ],
      "execution_count": 74,
      "outputs": [
        {
          "output_type": "execute_result",
          "data": {
            "text/plain": [
              "[('Age', 0.0030841014078752615),\n",
              " ('Balance', 2.3120758787265377e-05),\n",
              " ('HHInsurance', -0.8608119757330184),\n",
              " ('CarLoan', -0.6651077288284996),\n",
              " ('LastContactDay', -0.008525885812794008),\n",
              " ('NoOfContacts', -0.08472219765796105),\n",
              " ('DaysPassed', 0.0012467830295027269),\n",
              " ('PrevAttempts', 0.03728038777372237),\n",
              " ('Call_Duration', 0.3710977894391304),\n",
              " ('Job_admin.', 0.06469957846249712),\n",
              " ('Job_blue-collar', -0.4788201786280961),\n",
              " ('Job_entrepreneur', -0.4540451999646561),\n",
              " ('Job_housemaid', -0.4123067940269256),\n",
              " ('Job_management', -0.2994256951088454),\n",
              " ('Job_retired', 0.26984220216751853),\n",
              " ('Job_self-employed', -0.8033111389548012),\n",
              " ('Job_services', -0.13336301458281885),\n",
              " ('Job_student', 1.115666217601368),\n",
              " ('Job_technician', 0.012737453538318583),\n",
              " ('Job_unemployed', -0.04020198874994068),\n",
              " ('Marital_married', -0.19989903263283057),\n",
              " ('Marital_single', -0.024857371812388774),\n",
              " ('Education_secondary', 0.11805274073354943),\n",
              " ('Education_tertiary', 0.5751565647959662),\n",
              " ('LastContactMonth_aug', -0.9799838692182486),\n",
              " ('LastContactMonth_dec', 0.8210751688112311),\n",
              " ('LastContactMonth_feb', -0.2358596211100912),\n",
              " ('LastContactMonth_jan', -1.6364329483709377),\n",
              " ('LastContactMonth_jul', -0.8061304311141331),\n",
              " ('LastContactMonth_jun', -0.6117395208880881),\n",
              " ('LastContactMonth_mar', 0.9731542481054267),\n",
              " ('LastContactMonth_may', -1.2642761842105676),\n",
              " ('LastContactMonth_nov', -0.5594102565740608),\n",
              " ('LastContactMonth_oct', 0.870802026804717),\n",
              " ('LastContactMonth_sep', 0.9206045163817196),\n",
              " ('Outcome_failure', 0.042422340557208296),\n",
              " ('Outcome_other', 0.19962672951686763),\n",
              " ('Outcome_success', 2.416778136606567)]"
            ]
          },
          "metadata": {
            "tags": []
          },
          "execution_count": 74
        }
      ]
    },
    {
      "cell_type": "markdown",
      "metadata": {
        "id": "ulWbMLWIciKx"
      },
      "source": [
        "* As we have used Ridge as penalty. And we know lasso makes the coeff. as zero as \n",
        "well for the variables it found not important. And Ridge does not make the coeff. as zero but gives the least coeff. value which is almost zero but not exactly zero. <br>\n",
        "* As in lasso  we can see the coeff. of 'Outcome_failure', 'Marital_single','Job_unemployed' is zero. It means they have been neglected by the model completely.<br>\n",
        "* Let's see the value of coeff. of same column in Ridge Reg.\n",
        "* 'Outcome_failure' 0.04 while in lasso it is 0.0\n",
        "* ''Marital_single', -0.024 while in lasso it is 0.0\n",
        "* 'Job_unemployed', -0.040 while in lasso it is 0.0"
      ]
    },
    {
      "cell_type": "code",
      "metadata": {
        "id": "JtItLnvEpMwE"
      },
      "source": [
        "train_pred = final_model.predict(X_train)\n",
        "test_pred = final_model.predict(X_test)"
      ],
      "execution_count": 75,
      "outputs": []
    },
    {
      "cell_type": "code",
      "metadata": {
        "colab": {
          "base_uri": "https://localhost:8080/"
        },
        "id": "k3z86sVzm9aZ",
        "outputId": "73780be8-56b0-4d66-b5b7-884375b213b4"
      },
      "source": [
        "print('Classification report for train data is : \\n',\n",
        "      classification_report(y_train, train_pred))\n",
        "print('Classification report for test data is : \\n',\n",
        "      classification_report(y_test, test_pred))"
      ],
      "execution_count": 76,
      "outputs": [
        {
          "output_type": "stream",
          "text": [
            "Classification report for train data is : \n",
            "               precision    recall  f1-score   support\n",
            "\n",
            "           0       0.86      0.85      0.86      1685\n",
            "           1       0.77      0.80      0.79      1115\n",
            "\n",
            "    accuracy                           0.83      2800\n",
            "   macro avg       0.82      0.82      0.82      2800\n",
            "weighted avg       0.83      0.83      0.83      2800\n",
            "\n",
            "Classification report for test data is : \n",
            "               precision    recall  f1-score   support\n",
            "\n",
            "           0       0.85      0.81      0.83       711\n",
            "           1       0.74      0.79      0.77       489\n",
            "\n",
            "    accuracy                           0.80      1200\n",
            "   macro avg       0.79      0.80      0.80      1200\n",
            "weighted avg       0.81      0.80      0.80      1200\n",
            "\n"
          ],
          "name": "stdout"
        }
      ]
    },
    {
      "cell_type": "markdown",
      "metadata": {
        "id": "1bInIFz7dPws"
      },
      "source": [
        "We have our classification Report here. "
      ]
    },
    {
      "cell_type": "code",
      "metadata": {
        "id": "Gvob3u6ApSfD"
      },
      "source": [
        "final_model.variables = X_train.columns"
      ],
      "execution_count": 77,
      "outputs": []
    },
    {
      "cell_type": "code",
      "metadata": {
        "colab": {
          "base_uri": "https://localhost:8080/"
        },
        "id": "FWTtpX3Csptz",
        "outputId": "1b2aea63-2e0c-40ec-cc26-90762711e942"
      },
      "source": [
        "\n",
        "joblib.dump(final_model,'best_model_ridge.joblib')"
      ],
      "execution_count": 78,
      "outputs": [
        {
          "output_type": "execute_result",
          "data": {
            "text/plain": [
              "['best_model_ridge.joblib']"
            ]
          },
          "metadata": {
            "tags": []
          },
          "execution_count": 78
        }
      ]
    },
    {
      "cell_type": "code",
      "metadata": {
        "id": "z4kXvndbsxY8"
      },
      "source": [
        "def plot_roc_curve(y_train_actual, train_pred_prob, y_test_actual, test_pred_prob, *args):\n",
        "    '''\n",
        "    Generate the train & test roc curve\n",
        "    '''\n",
        "\n",
        "    AUC_Train = roc_auc_score(y_train_actual, train_pred_prob)\n",
        "    AUC_Test = roc_auc_score(y_test_actual, test_pred_prob)\n",
        "\n",
        "    if len(args) == 0:\n",
        "        print(\"Train AUC = \", AUC_Train)\n",
        "        print(\"Test AUC = \", AUC_Test)\n",
        "        fpr, tpr, thresholds = roc_curve(y_train_actual, train_pred_prob)\n",
        "        fpr_tst, tpr_tst, thresholds = roc_curve(y_test_actual, test_pred_prob)\n",
        "        roc_plot(fpr, tpr, fpr_tst, tpr_tst)\n",
        "\n",
        "    else:\n",
        "        AUC_Valid = roc_auc_score(args[0], args[1])\n",
        "        print(\"Train AUC = \", AUC_Train)\n",
        "        print(\"Test AUC = \", AUC_Test)\n",
        "        print(\"Validation AUC = \", AUC_Valid)\n",
        "        fpr, tpr, thresholds = roc_curve(y_train_actual, train_pred_prob)\n",
        "        fpr_tst, tpr_tst, thresholds = roc_curve(y_test_actual, test_pred_prob)\n",
        "        fpr_val, tpr_val, thresholds = roc_curve(args[0], args[1])\n",
        "        roc_plot(fpr, tpr, fpr_tst, tpr_tst, fpr_val, tpr_val)"
      ],
      "execution_count": 79,
      "outputs": []
    },
    {
      "cell_type": "code",
      "metadata": {
        "id": "J6Pw9xbEuBNm"
      },
      "source": [
        "def roc_plot(fpr, tpr, fpr_tst, tpr_tst, *args):\n",
        "    '''\n",
        "    Generates roc plot\n",
        "    '''\n",
        "\n",
        "    fig = plt.plot(fpr, tpr, label='Train')\n",
        "    fig = plt.plot(fpr_tst, tpr_tst, label='Test')\n",
        "\n",
        "    if len(args) == 0:\n",
        "        plt.xlim([0.0, 1.0])\n",
        "        plt.ylim([0.0, 1.0])\n",
        "        plt.title(\"ROC curve using \")\n",
        "        plt.xlabel('False Positive Rate (1 - Specificity)')\n",
        "        plt.ylabel('True Positive Rate (Sensitivity)')\n",
        "        plt.legend(loc='lower right')\n",
        "        plt.grid(True)\n",
        "        plt.show()\n",
        "\n",
        "    else:\n",
        "        fig = plt.plot(args[0], args[1], label='Validation')\n",
        "        plt.xlim([0.0, 1.0])\n",
        "        plt.ylim([0.0, 1.0])\n",
        "        plt.title(\"ROC curve using \")\n",
        "        plt.xlabel('False Positive Rate (1 - Specificity)')\n",
        "        plt.ylabel('True Positive Rate (Sensitivity)')\n",
        "        plt.legend(loc='lower right')\n",
        "        plt.grid(True)\n",
        "        plt.show()"
      ],
      "execution_count": 80,
      "outputs": []
    },
    {
      "cell_type": "code",
      "metadata": {
        "colab": {
          "base_uri": "https://localhost:8080/",
          "height": 384
        },
        "id": "6wIquf3AuFAo",
        "outputId": "2e45d1c3-2c87-4b7d-cb5a-385fef9dca55"
      },
      "source": [
        "plt.subplots(figsize=(10, 5))\n",
        "train_prob = final_model.predict_proba(X_train)[:, 1]\n",
        "test_prob = final_model.predict_proba(X_test)[:, 1]\n",
        "\n",
        "plot_roc_curve(y_train, train_prob,\n",
        "               y_test, test_prob)"
      ],
      "execution_count": 81,
      "outputs": [
        {
          "output_type": "stream",
          "text": [
            "Train AUC =  0.909912576013626\n",
            "Test AUC =  0.8968761414983362\n"
          ],
          "name": "stdout"
        },
        {
          "output_type": "display_data",
          "data": {
            "image/png": "[encoded data removed]",
            "text/plain": [
              "<Figure size 720x360 with 1 Axes>"
            ]
          },
          "metadata": {
            "tags": [],
            "needs_background": "light"
          }
        }
      ]
    },
    {
      "cell_type": "code",
      "metadata": {
        "id": "Wrv-zyu5uOg4"
      },
      "source": [
        "coefs = pd.DataFrame(list(final_model.coef_.ravel()),\n",
        "                        list(X_train.columns)).reset_index()\n",
        "coefs.columns = ['feature', 'coefficient']\n",
        "coefs = coefs.sort_values(by='coefficient', ascending=False)"
      ],
      "execution_count": 82,
      "outputs": []
    },
    {
      "cell_type": "code",
      "metadata": {
        "colab": {
          "base_uri": "https://localhost:8080/",
          "height": 1000
        },
        "id": "QxnhWjx2u3DO",
        "outputId": "b4005ca2-83be-49fd-fe45-ed72ffbfb5f9"
      },
      "source": [
        "coefs"
      ],
      "execution_count": 83,
      "outputs": [
        {
          "output_type": "execute_result",
          "data": {
            "text/html": [
              "<div>\n",
              "<style scoped>\n",
              "    .dataframe tbody tr th:only-of-type {\n",
              "        vertical-align: middle;\n",
              "    }\n",
              "\n",
              "    .dataframe tbody tr th {\n",
              "        vertical-align: top;\n",
              "    }\n",
              "\n",
              "    .dataframe thead th {\n",
              "        text-align: right;\n",
              "    }\n",
              "</style>\n",
              "<table border=\"1\" class=\"dataframe\">\n",
              "  <thead>\n",
              "    <tr style=\"text-align: right;\">\n",
              "      <th></th>\n",
              "      <th>feature</th>\n",
              "      <th>coefficient</th>\n",
              "    </tr>\n",
              "  </thead>\n",
              "  <tbody>\n",
              "    <tr>\n",
              "      <th>37</th>\n",
              "      <td>Outcome_success</td>\n",
              "      <td>2.416778</td>\n",
              "    </tr>\n",
              "    <tr>\n",
              "      <th>17</th>\n",
              "      <td>Job_student</td>\n",
              "      <td>1.115666</td>\n",
              "    </tr>\n",
              "    <tr>\n",
              "      <th>30</th>\n",
              "      <td>LastContactMonth_mar</td>\n",
              "      <td>0.973154</td>\n",
              "    </tr>\n",
              "    <tr>\n",
              "      <th>34</th>\n",
              "      <td>LastContactMonth_sep</td>\n",
              "      <td>0.920605</td>\n",
              "    </tr>\n",
              "    <tr>\n",
              "      <th>33</th>\n",
              "      <td>LastContactMonth_oct</td>\n",
              "      <td>0.870802</td>\n",
              "    </tr>\n",
              "    <tr>\n",
              "      <th>25</th>\n",
              "      <td>LastContactMonth_dec</td>\n",
              "      <td>0.821075</td>\n",
              "    </tr>\n",
              "    <tr>\n",
              "      <th>23</th>\n",
              "      <td>Education_tertiary</td>\n",
              "      <td>0.575157</td>\n",
              "    </tr>\n",
              "    <tr>\n",
              "      <th>8</th>\n",
              "      <td>Call_Duration</td>\n",
              "      <td>0.371098</td>\n",
              "    </tr>\n",
              "    <tr>\n",
              "      <th>14</th>\n",
              "      <td>Job_retired</td>\n",
              "      <td>0.269842</td>\n",
              "    </tr>\n",
              "    <tr>\n",
              "      <th>36</th>\n",
              "      <td>Outcome_other</td>\n",
              "      <td>0.199627</td>\n",
              "    </tr>\n",
              "    <tr>\n",
              "      <th>22</th>\n",
              "      <td>Education_secondary</td>\n",
              "      <td>0.118053</td>\n",
              "    </tr>\n",
              "    <tr>\n",
              "      <th>9</th>\n",
              "      <td>Job_admin.</td>\n",
              "      <td>0.064700</td>\n",
              "    </tr>\n",
              "    <tr>\n",
              "      <th>35</th>\n",
              "      <td>Outcome_failure</td>\n",
              "      <td>0.042422</td>\n",
              "    </tr>\n",
              "    <tr>\n",
              "      <th>7</th>\n",
              "      <td>PrevAttempts</td>\n",
              "      <td>0.037280</td>\n",
              "    </tr>\n",
              "    <tr>\n",
              "      <th>18</th>\n",
              "      <td>Job_technician</td>\n",
              "      <td>0.012737</td>\n",
              "    </tr>\n",
              "    <tr>\n",
              "      <th>0</th>\n",
              "      <td>Age</td>\n",
              "      <td>0.003084</td>\n",
              "    </tr>\n",
              "    <tr>\n",
              "      <th>6</th>\n",
              "      <td>DaysPassed</td>\n",
              "      <td>0.001247</td>\n",
              "    </tr>\n",
              "    <tr>\n",
              "      <th>1</th>\n",
              "      <td>Balance</td>\n",
              "      <td>0.000023</td>\n",
              "    </tr>\n",
              "    <tr>\n",
              "      <th>4</th>\n",
              "      <td>LastContactDay</td>\n",
              "      <td>-0.008526</td>\n",
              "    </tr>\n",
              "    <tr>\n",
              "      <th>21</th>\n",
              "      <td>Marital_single</td>\n",
              "      <td>-0.024857</td>\n",
              "    </tr>\n",
              "    <tr>\n",
              "      <th>19</th>\n",
              "      <td>Job_unemployed</td>\n",
              "      <td>-0.040202</td>\n",
              "    </tr>\n",
              "    <tr>\n",
              "      <th>5</th>\n",
              "      <td>NoOfContacts</td>\n",
              "      <td>-0.084722</td>\n",
              "    </tr>\n",
              "    <tr>\n",
              "      <th>16</th>\n",
              "      <td>Job_services</td>\n",
              "      <td>-0.133363</td>\n",
              "    </tr>\n",
              "    <tr>\n",
              "      <th>20</th>\n",
              "      <td>Marital_married</td>\n",
              "      <td>-0.199899</td>\n",
              "    </tr>\n",
              "    <tr>\n",
              "      <th>26</th>\n",
              "      <td>LastContactMonth_feb</td>\n",
              "      <td>-0.235860</td>\n",
              "    </tr>\n",
              "    <tr>\n",
              "      <th>13</th>\n",
              "      <td>Job_management</td>\n",
              "      <td>-0.299426</td>\n",
              "    </tr>\n",
              "    <tr>\n",
              "      <th>12</th>\n",
              "      <td>Job_housemaid</td>\n",
              "      <td>-0.412307</td>\n",
              "    </tr>\n",
              "    <tr>\n",
              "      <th>11</th>\n",
              "      <td>Job_entrepreneur</td>\n",
              "      <td>-0.454045</td>\n",
              "    </tr>\n",
              "    <tr>\n",
              "      <th>10</th>\n",
              "      <td>Job_blue-collar</td>\n",
              "      <td>-0.478820</td>\n",
              "    </tr>\n",
              "    <tr>\n",
              "      <th>32</th>\n",
              "      <td>LastContactMonth_nov</td>\n",
              "      <td>-0.559410</td>\n",
              "    </tr>\n",
              "    <tr>\n",
              "      <th>29</th>\n",
              "      <td>LastContactMonth_jun</td>\n",
              "      <td>-0.611740</td>\n",
              "    </tr>\n",
              "    <tr>\n",
              "      <th>3</th>\n",
              "      <td>CarLoan</td>\n",
              "      <td>-0.665108</td>\n",
              "    </tr>\n",
              "    <tr>\n",
              "      <th>15</th>\n",
              "      <td>Job_self-employed</td>\n",
              "      <td>-0.803311</td>\n",
              "    </tr>\n",
              "    <tr>\n",
              "      <th>28</th>\n",
              "      <td>LastContactMonth_jul</td>\n",
              "      <td>-0.806130</td>\n",
              "    </tr>\n",
              "    <tr>\n",
              "      <th>2</th>\n",
              "      <td>HHInsurance</td>\n",
              "      <td>-0.860812</td>\n",
              "    </tr>\n",
              "    <tr>\n",
              "      <th>24</th>\n",
              "      <td>LastContactMonth_aug</td>\n",
              "      <td>-0.979984</td>\n",
              "    </tr>\n",
              "    <tr>\n",
              "      <th>31</th>\n",
              "      <td>LastContactMonth_may</td>\n",
              "      <td>-1.264276</td>\n",
              "    </tr>\n",
              "    <tr>\n",
              "      <th>27</th>\n",
              "      <td>LastContactMonth_jan</td>\n",
              "      <td>-1.636433</td>\n",
              "    </tr>\n",
              "  </tbody>\n",
              "</table>\n",
              "</div>"
            ],
            "text/plain": [
              "                 feature  coefficient\n",
              "37       Outcome_success     2.416778\n",
              "17           Job_student     1.115666\n",
              "30  LastContactMonth_mar     0.973154\n",
              "34  LastContactMonth_sep     0.920605\n",
              "33  LastContactMonth_oct     0.870802\n",
              "25  LastContactMonth_dec     0.821075\n",
              "23    Education_tertiary     0.575157\n",
              "8          Call_Duration     0.371098\n",
              "14           Job_retired     0.269842\n",
              "36         Outcome_other     0.199627\n",
              "22   Education_secondary     0.118053\n",
              "9             Job_admin.     0.064700\n",
              "35       Outcome_failure     0.042422\n",
              "7           PrevAttempts     0.037280\n",
              "18        Job_technician     0.012737\n",
              "0                    Age     0.003084\n",
              "6             DaysPassed     0.001247\n",
              "1                Balance     0.000023\n",
              "4         LastContactDay    -0.008526\n",
              "21        Marital_single    -0.024857\n",
              "19        Job_unemployed    -0.040202\n",
              "5           NoOfContacts    -0.084722\n",
              "16          Job_services    -0.133363\n",
              "20       Marital_married    -0.199899\n",
              "26  LastContactMonth_feb    -0.235860\n",
              "13        Job_management    -0.299426\n",
              "12         Job_housemaid    -0.412307\n",
              "11      Job_entrepreneur    -0.454045\n",
              "10       Job_blue-collar    -0.478820\n",
              "32  LastContactMonth_nov    -0.559410\n",
              "29  LastContactMonth_jun    -0.611740\n",
              "3                CarLoan    -0.665108\n",
              "15     Job_self-employed    -0.803311\n",
              "28  LastContactMonth_jul    -0.806130\n",
              "2            HHInsurance    -0.860812\n",
              "24  LastContactMonth_aug    -0.979984\n",
              "31  LastContactMonth_may    -1.264276\n",
              "27  LastContactMonth_jan    -1.636433"
            ]
          },
          "metadata": {
            "tags": []
          },
          "execution_count": 83
        }
      ]
    },
    {
      "cell_type": "code",
      "metadata": {
        "id": "CNriKhyLu5gQ"
      },
      "source": [
        "best_model = joblib.load('best_model_ridge.joblib')"
      ],
      "execution_count": 84,
      "outputs": []
    },
    {
      "cell_type": "markdown",
      "metadata": {
        "id": "m9WaICdudWkR"
      },
      "source": [
        "Here we can see the coeff. value and compare it with the coeff. in lasso. However we did not find much difference in roc_score. However it is generally observed that Lasso Regression works better than ridge."
      ]
    },
    {
      "cell_type": "code",
      "metadata": {
        "id": "cgVwal2efCJD"
      },
      "source": [
        ""
      ],
      "execution_count": null,
      "outputs": []
    }
  ]
}